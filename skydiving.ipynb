{
  "nbformat": 4,
  "nbformat_minor": 0,
  "metadata": {
    "colab": {
      "provenance": [],
      "authorship_tag": "ABX9TyP/AXVBz4mOP6LvSpNFw0Hn",
      "include_colab_link": true
    },
    "kernelspec": {
      "name": "python3",
      "display_name": "Python 3"
    },
    "language_info": {
      "name": "python"
    }
  },
  "cells": [
    {
      "cell_type": "markdown",
      "metadata": {
        "id": "view-in-github",
        "colab_type": "text"
      },
      "source": [
        "<a href=\"https://colab.research.google.com/github/Ragnarok540/sympy-tutorial/blob/main/skydiving.ipynb\" target=\"_parent\"><img src=\"https://colab.research.google.com/assets/colab-badge.svg\" alt=\"Open In Colab\"/></a>"
      ]
    },
    {
      "cell_type": "code",
      "execution_count": 69,
      "metadata": {
        "id": "IfVpP8URpRhy"
      },
      "outputs": [],
      "source": [
        "# https://www.youtube.com/watch?v=bA16sDvF0xQ\n",
        "\n",
        "import sympy as smp\n",
        "import numpy as np\n",
        "import matplotlib.pyplot as plt\n",
        "from scipy.integrate import odeint"
      ]
    },
    {
      "cell_type": "code",
      "source": [
        "b, m, v_x, v_y, g = smp.symbols('b m v_x v_y g')"
      ],
      "metadata": {
        "id": "S5Rzwfs0sPCD"
      },
      "execution_count": 70,
      "outputs": []
    },
    {
      "cell_type": "code",
      "source": [
        "dvx_dt = - (b / m) * smp.sqrt(v_x ** 2 + v_y ** 2) * v_x\n",
        "dvx_dt"
      ],
      "metadata": {
        "colab": {
          "base_uri": "https://localhost:8080/",
          "height": 66
        },
        "id": "s51blgrtspzE",
        "outputId": "ef779c52-0d39-4c27-8313-3d01b094ad94"
      },
      "execution_count": 71,
      "outputs": [
        {
          "output_type": "execute_result",
          "data": {
            "text/plain": [
              "-b*v_x*sqrt(v_x**2 + v_y**2)/m"
            ],
            "text/latex": "$\\displaystyle - \\frac{b v_{x} \\sqrt{v_{x}^{2} + v_{y}^{2}}}{m}$"
          },
          "metadata": {},
          "execution_count": 71
        }
      ]
    },
    {
      "cell_type": "code",
      "source": [
        "dvy_dt = - g - (b / m) * smp.sqrt(v_x ** 2 + v_y ** 2) * v_y\n",
        "dvy_dt"
      ],
      "metadata": {
        "colab": {
          "base_uri": "https://localhost:8080/",
          "height": 66
        },
        "id": "kiSmvcWvtbCM",
        "outputId": "2c14b558-8f7a-4fe3-bfd7-ad7fcf643779"
      },
      "execution_count": 72,
      "outputs": [
        {
          "output_type": "execute_result",
          "data": {
            "text/plain": [
              "-b*v_y*sqrt(v_x**2 + v_y**2)/m - g"
            ],
            "text/latex": "$\\displaystyle - \\frac{b v_{y} \\sqrt{v_{x}^{2} + v_{y}^{2}}}{m} - g$"
          },
          "metadata": {},
          "execution_count": 72
        }
      ]
    },
    {
      "cell_type": "code",
      "source": [
        "vt = -55\n",
        "\n",
        "fun_x = dvx_dt.subs([(g, 9.81), (m, 80), (b, (80*9.81)/vt**2)])\n",
        "fun_y = dvy_dt.subs([(g, 9.81), (m, 80), (b, (80*9.81)/vt**2)])\n",
        "\n",
        "[fun_x, fun_y]"
      ],
      "metadata": {
        "colab": {
          "base_uri": "https://localhost:8080/"
        },
        "id": "SEVZHGxivd40",
        "outputId": "4ec57315-1142-4d6c-afb9-73f77a5be89c"
      },
      "execution_count": 73,
      "outputs": [
        {
          "output_type": "execute_result",
          "data": {
            "text/plain": [
              "[-0.00324297520661157*v_x*sqrt(v_x**2 + v_y**2),\n",
              " -0.00324297520661157*v_y*sqrt(v_x**2 + v_y**2) - 9.81]"
            ]
          },
          "metadata": {},
          "execution_count": 73
        }
      ]
    },
    {
      "cell_type": "code",
      "source": [
        "nfun_x = smp.lambdify([v_x, v_y], fun_x)\n",
        "nfun_y = smp.lambdify([v_x, v_y], fun_y)\n",
        "\n",
        "t = np.linspace(0, 20, 100)\n",
        "v0x, v0y = 50, 0\n",
        "\n",
        "def func(s, t):\n",
        "  vx = s[0]\n",
        "  vy = s[1]\n",
        "  return [nfun_x(vx, vy), nfun_y(vx, vy)]\n",
        "\n",
        "sol = odeint(func, y0=[v0x, v0y], t=t)"
      ],
      "metadata": {
        "id": "RS1TiHYOwTMk"
      },
      "execution_count": 74,
      "outputs": []
    },
    {
      "cell_type": "code",
      "source": [
        "vx = sol.T[0]\n",
        "\n",
        "plt.plot(t, vx)"
      ],
      "metadata": {
        "colab": {
          "base_uri": "https://localhost:8080/",
          "height": 447
        },
        "id": "alCBIdaI41XH",
        "outputId": "262d25e2-7c65-44f0-f7f8-0276762e3edd"
      },
      "execution_count": 75,
      "outputs": [
        {
          "output_type": "execute_result",
          "data": {
            "text/plain": [
              "[<matplotlib.lines.Line2D at 0x7de38588d350>]"
            ]
          },
          "metadata": {},
          "execution_count": 75
        },
        {
          "output_type": "display_data",
          "data": {
            "text/plain": [
              "<Figure size 640x480 with 1 Axes>"
            ],
            "image/png": "[encoded data removed]"
          },
          "metadata": {}
        }
      ]
    },
    {
      "cell_type": "code",
      "source": [
        "vy = sol.T[1]\n",
        "\n",
        "plt.plot(t, vy)\n",
        "plt.axhline(vt, color='r')"
      ],
      "metadata": {
        "colab": {
          "base_uri": "https://localhost:8080/",
          "height": 447
        },
        "id": "4mQpJnvH48XP",
        "outputId": "69c77cfd-9734-48bf-9564-e64370d36475"
      },
      "execution_count": 76,
      "outputs": [
        {
          "output_type": "execute_result",
          "data": {
            "text/plain": [
              "<matplotlib.lines.Line2D at 0x7de3858c0390>"
            ]
          },
          "metadata": {},
          "execution_count": 76
        },
        {
          "output_type": "display_data",
          "data": {
            "text/plain": [
              "<Figure size 640x480 with 1 Axes>"
            ],
            "image/png": "[encoded data removed]"
          },
          "metadata": {}
        }
      ]
    },
    {
      "cell_type": "code",
      "source": [
        "ind = np.abs(vy - vt)/np.abs(vt) < 0.01\n",
        "\n",
        "t[ind]"
      ],
      "metadata": {
        "colab": {
          "base_uri": "https://localhost:8080/"
        },
        "id": "qtPThHRw007a",
        "outputId": "773448ee-e753-49fd-d6a7-07b974d14441"
      },
      "execution_count": 77,
      "outputs": [
        {
          "output_type": "execute_result",
          "data": {
            "text/plain": [
              "array([17.17171717, 17.37373737, 17.57575758, 17.77777778, 17.97979798,\n",
              "       18.18181818, 18.38383838, 18.58585859, 18.78787879, 18.98989899,\n",
              "       19.19191919, 19.39393939, 19.5959596 , 19.7979798 , 20.        ])"
            ]
          },
          "metadata": {},
          "execution_count": 77
        }
      ]
    }
  ]
}