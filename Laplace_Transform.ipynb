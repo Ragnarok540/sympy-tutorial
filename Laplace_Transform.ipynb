{
  "nbformat": 4,
  "nbformat_minor": 0,
  "metadata": {
    "colab": {
      "provenance": [],
      "authorship_tag": "ABX9TyO1zGFH1AAyTgPXURCOF0VM",
      "include_colab_link": true
    },
    "kernelspec": {
      "name": "python3",
      "display_name": "Python 3"
    },
    "language_info": {
      "name": "python"
    }
  },
  "cells": [
    {
      "cell_type": "markdown",
      "metadata": {
        "id": "view-in-github",
        "colab_type": "text"
      },
      "source": [
        "<a href=\"https://colab.research.google.com/github/Ragnarok540/sympy-tutorial/blob/main/Laplace_Transform.ipynb\" target=\"_parent\"><img src=\"https://colab.research.google.com/assets/colab-badge.svg\" alt=\"Open In Colab\"/></a>"
      ]
    },
    {
      "cell_type": "code",
      "execution_count": 1,
      "metadata": {
        "id": "I4ns4K7GvJsA"
      },
      "outputs": [],
      "source": [
        "# https://www.youtube.com/watch?v=3uYb-RhM7lU\n",
        "# https://www.youtube.com/watch?v=EdQ7Q9VoF44\n",
        "\n",
        "import sympy as smp\n",
        "from sympy import Function, diff, solve, exp\n",
        "import sympy.physics.mechanics as smp_mech\n",
        "from sympy.integrals import (laplace_transform,\n",
        "                             laplace_correspondence,\n",
        "                             laplace_initial_conds,\n",
        "                             inverse_laplace_transform)\n",
        "from sympy.abc import t, s"
      ]
    },
    {
      "cell_type": "code",
      "source": [
        "smp_mech.init_vprinting()\n",
        "\n",
        "# Example 1\n",
        "\n",
        "y = Function('y')\n",
        "Y = Function('Y')\n",
        "\n",
        "f = diff(y(t), t, 2) + 5 * diff(y(t), t) + 6 * y(t)\n",
        "f"
      ],
      "metadata": {
        "colab": {
          "base_uri": "https://localhost:8080/",
          "height": 38
        },
        "id": "18rEUbuo61sa",
        "outputId": "404658ad-9a15-4168-a9b0-3c7e2b1d5932"
      },
      "execution_count": 2,
      "outputs": [
        {
          "output_type": "execute_result",
          "data": {
            "text/plain": [
              "6⋅y + 5⋅ẏ + ÿ"
            ],
            "text/latex": "$\\displaystyle 6 y + 5 \\dot{y} + \\ddot{y}$"
          },
          "metadata": {},
          "execution_count": 2
        }
      ]
    },
    {
      "cell_type": "code",
      "source": [
        "F = laplace_transform(f, t, s, noconds=True)\n",
        "F = laplace_correspondence(F, {y: Y})\n",
        "F = laplace_initial_conds(F, t, {y: [2, 3]})\n",
        "F"
      ],
      "metadata": {
        "colab": {
          "base_uri": "https://localhost:8080/",
          "height": 38
        },
        "id": "OcKsTX1_zJtw",
        "outputId": "f1f088e3-370c-4ef9-e1d8-ac26584dffda"
      },
      "execution_count": 3,
      "outputs": [
        {
          "output_type": "execute_result",
          "data": {
            "text/plain": [
              " 2                                    \n",
              "s ⋅Y(s) + 5⋅s⋅Y(s) - 2⋅s + 6⋅Y(s) - 13"
            ],
            "text/latex": "$\\displaystyle s^{2} Y{\\left(s \\right)} + 5 s Y{\\left(s \\right)} - 2 s + 6 Y{\\left(s \\right)} - 13$"
          },
          "metadata": {},
          "execution_count": 3
        }
      ]
    },
    {
      "cell_type": "code",
      "source": [
        "Ys = solve(F, Y(s))\n",
        "Ys[0]"
      ],
      "metadata": {
        "colab": {
          "base_uri": "https://localhost:8080/",
          "height": 52
        },
        "id": "VUpUgLjH_lOJ",
        "outputId": "f091ea94-5e43-4790-bcbc-b89812976216"
      },
      "execution_count": 4,
      "outputs": [
        {
          "output_type": "execute_result",
          "data": {
            "text/plain": [
              "  2⋅s + 13  \n",
              "────────────\n",
              " 2          \n",
              "s  + 5⋅s + 6"
            ],
            "text/latex": "$\\displaystyle \\frac{2 s + 13}{s^{2} + 5 s + 6}$"
          },
          "metadata": {},
          "execution_count": 4
        }
      ]
    },
    {
      "cell_type": "code",
      "source": [
        "inverse_laplace_transform(Ys[0], s, t)"
      ],
      "metadata": {
        "colab": {
          "base_uri": "https://localhost:8080/",
          "height": 38
        },
        "id": "9gXOKSobAttN",
        "outputId": "b1e585c7-4cd4-44fe-fc25-055c067c629c"
      },
      "execution_count": 5,
      "outputs": [
        {
          "output_type": "execute_result",
          "data": {
            "text/plain": [
              "   -2⋅t           -3⋅t     \n",
              "9⋅ℯ    ⋅θ(t) - 7⋅ℯ    ⋅θ(t)"
            ],
            "text/latex": "$\\displaystyle 9 e^{- 2 t} \\theta\\left(t\\right) - 7 e^{- 3 t} \\theta\\left(t\\right)$"
          },
          "metadata": {},
          "execution_count": 5
        }
      ]
    },
    {
      "cell_type": "code",
      "source": [
        "# Example 2\n",
        "\n",
        "y = Function('y')\n",
        "Y = Function('Y')\n",
        "\n",
        "f = diff(y(t), t) - 3 * y(t) - exp(2 * t)\n",
        "f"
      ],
      "metadata": {
        "id": "C9dD9iwPof-z",
        "outputId": "ea840d13-8ac9-4afb-889d-74aaeb157394",
        "colab": {
          "base_uri": "https://localhost:8080/",
          "height": 38
        }
      },
      "execution_count": 6,
      "outputs": [
        {
          "output_type": "execute_result",
          "data": {
            "text/plain": [
              "        2⋅t    \n",
              "-3⋅y - ℯ    + ẏ"
            ],
            "text/latex": "$\\displaystyle - 3 y - e^{2 t} + \\dot{y}$"
          },
          "metadata": {},
          "execution_count": 6
        }
      ]
    },
    {
      "cell_type": "code",
      "source": [
        "F = laplace_transform(f, t, s, noconds=True)\n",
        "F = laplace_correspondence(F, {y: Y})\n",
        "F = laplace_initial_conds(F, t, {y: [1]})\n",
        "F"
      ],
      "metadata": {
        "id": "z3RsXhqjpXpq",
        "outputId": "ad70c1d4-2104-4cbf-e75f-4fbf91d67cb1",
        "colab": {
          "base_uri": "https://localhost:8080/",
          "height": 52
        }
      },
      "execution_count": 7,
      "outputs": [
        {
          "output_type": "execute_result",
          "data": {
            "text/plain": [
              "                        1  \n",
              "s⋅Y(s) - 3⋅Y(s) - 1 - ─────\n",
              "                      s - 2"
            ],
            "text/latex": "$\\displaystyle s Y{\\left(s \\right)} - 3 Y{\\left(s \\right)} - 1 - \\frac{1}{s - 2}$"
          },
          "metadata": {},
          "execution_count": 7
        }
      ]
    },
    {
      "cell_type": "code",
      "source": [
        "Ys = solve(F, Y(s))\n",
        "Ys[0]"
      ],
      "metadata": {
        "id": "LDRN6qPLpgvi",
        "outputId": "945d9883-5c10-4dd3-d582-85d1e33bfa46",
        "colab": {
          "base_uri": "https://localhost:8080/",
          "height": 52
        }
      },
      "execution_count": 8,
      "outputs": [
        {
          "output_type": "execute_result",
          "data": {
            "text/plain": [
              "   s - 1    \n",
              "────────────\n",
              " 2          \n",
              "s  - 5⋅s + 6"
            ],
            "text/latex": "$\\displaystyle \\frac{s - 1}{s^{2} - 5 s + 6}$"
          },
          "metadata": {},
          "execution_count": 8
        }
      ]
    },
    {
      "cell_type": "code",
      "source": [
        "inverse_laplace_transform(Ys[0], s, t)"
      ],
      "metadata": {
        "id": "0Sny-226pi7h",
        "outputId": "4f5af514-2245-46ac-d282-dbc61a8fdd5a",
        "colab": {
          "base_uri": "https://localhost:8080/",
          "height": 38
        }
      },
      "execution_count": 9,
      "outputs": [
        {
          "output_type": "execute_result",
          "data": {
            "text/plain": [
              "   3⋅t         2⋅t     \n",
              "2⋅ℯ   ⋅θ(t) - ℯ   ⋅θ(t)"
            ],
            "text/latex": "$\\displaystyle 2 e^{3 t} \\theta\\left(t\\right) - e^{2 t} \\theta\\left(t\\right)$"
          },
          "metadata": {},
          "execution_count": 9
        }
      ]
    },
    {
      "cell_type": "code",
      "source": [
        "# Example 3\n",
        "\n",
        "Ys = 6 / ((s - 2) ** 4)\n",
        "\n",
        "Ys"
      ],
      "metadata": {
        "id": "58gh4Iqgpq22",
        "outputId": "d811240e-e581-41a3-88f3-07ee6d28c8f3",
        "colab": {
          "base_uri": "https://localhost:8080/",
          "height": 58
        }
      },
      "execution_count": 10,
      "outputs": [
        {
          "output_type": "execute_result",
          "data": {
            "text/plain": [
              "   6    \n",
              "────────\n",
              "       4\n",
              "(s - 2) "
            ],
            "text/latex": "$\\displaystyle \\frac{6}{\\left(s - 2\\right)^{4}}$"
          },
          "metadata": {},
          "execution_count": 10
        }
      ]
    },
    {
      "cell_type": "code",
      "source": [
        "inverse_laplace_transform(Ys, s, t)"
      ],
      "metadata": {
        "id": "lp2PmkEsqXUD",
        "outputId": "b7649dbd-0fe7-4ac4-c48f-461ed58d6dfb",
        "colab": {
          "base_uri": "https://localhost:8080/",
          "height": 38
        }
      },
      "execution_count": 11,
      "outputs": [
        {
          "output_type": "execute_result",
          "data": {
            "text/plain": [
              " 3  2⋅t     \n",
              "t ⋅ℯ   ⋅θ(t)"
            ],
            "text/latex": "$\\displaystyle t^{3} e^{2 t} \\theta\\left(t\\right)$"
          },
          "metadata": {},
          "execution_count": 11
        }
      ]
    },
    {
      "cell_type": "code",
      "source": [
        "# Example 4\n",
        "\n",
        "Ys = (2 * (s - 1) * smp.exp(-2 * s)) / ((s - 1) ** 2 + 1)\n",
        "\n",
        "Ys"
      ],
      "metadata": {
        "id": "4JsrD6MfDoav",
        "outputId": "223ab853-19e2-4243-ade7-ba37a7cf3df1",
        "colab": {
          "base_uri": "https://localhost:8080/",
          "height": 61
        }
      },
      "execution_count": 12,
      "outputs": [
        {
          "output_type": "execute_result",
          "data": {
            "text/plain": [
              "           -2⋅s\n",
              "(2⋅s - 2)⋅ℯ    \n",
              "───────────────\n",
              "        2      \n",
              " (s - 1)  + 1  "
            ],
            "text/latex": "$\\displaystyle \\frac{\\left(2 s - 2\\right) e^{- 2 s}}{\\left(s - 1\\right)^{2} + 1}$"
          },
          "metadata": {},
          "execution_count": 12
        }
      ]
    },
    {
      "cell_type": "code",
      "source": [
        "inv = inverse_laplace_transform(Ys, s, t)\n",
        "inv"
      ],
      "metadata": {
        "id": "xIapzzCHEMJa",
        "outputId": "de9bc80d-c2a1-420c-dcb8-7f1d208ac0eb",
        "colab": {
          "base_uri": "https://localhost:8080/",
          "height": 38
        }
      },
      "execution_count": 13,
      "outputs": [
        {
          "output_type": "execute_result",
          "data": {
            "text/plain": [
              "  ⎛ t - 2               t - 2           ⎞               t - 2                  ↪\n",
              "2⋅⎝ℯ     ⋅sin(t - 2) + ℯ     ⋅cos(t - 2)⎠⋅θ(t - 2) - 2⋅ℯ     ⋅sin(t - 2)⋅θ(t - ↪\n",
              "\n",
              "↪    \n",
              "↪  2)"
            ],
            "text/latex": "$\\displaystyle 2 \\left(e^{t - 2} \\sin{\\left(t - 2 \\right)} + e^{t - 2} \\cos{\\left(t - 2 \\right)}\\right) \\theta\\left(t - 2\\right) - 2 e^{t - 2} \\sin{\\left(t - 2 \\right)} \\theta\\left(t - 2\\right)$"
          },
          "metadata": {},
          "execution_count": 13
        }
      ]
    },
    {
      "cell_type": "code",
      "source": [
        "smp.simplify(inv)"
      ],
      "metadata": {
        "id": "t0WEZIflE5dB",
        "outputId": "6e4880e8-c6f4-4181-a6b6-cce305d34dc5",
        "colab": {
          "base_uri": "https://localhost:8080/",
          "height": 38
        }
      },
      "execution_count": 14,
      "outputs": [
        {
          "output_type": "execute_result",
          "data": {
            "text/plain": [
              "   t - 2                    \n",
              "2⋅ℯ     ⋅cos(t - 2)⋅θ(t - 2)"
            ],
            "text/latex": "$\\displaystyle 2 e^{t - 2} \\cos{\\left(t - 2 \\right)} \\theta\\left(t - 2\\right)$"
          },
          "metadata": {},
          "execution_count": 14
        }
      ]
    },
    {
      "cell_type": "code",
      "source": [
        "# Example 5\n",
        "\n",
        "Ys = (s - 3) / ((s - 3) ** 2 + 4 )\n",
        "\n",
        "Ys"
      ],
      "metadata": {
        "outputId": "02759909-d17e-4288-a369-83721c994c02",
        "colab": {
          "base_uri": "https://localhost:8080/",
          "height": 58
        },
        "id": "WbrVPXxbQGqx"
      },
      "execution_count": 18,
      "outputs": [
        {
          "output_type": "execute_result",
          "data": {
            "text/plain": [
              "   s - 3    \n",
              "────────────\n",
              "       2    \n",
              "(s - 3)  + 4"
            ],
            "text/latex": "$\\displaystyle \\frac{s - 3}{\\left(s - 3\\right)^{2} + 4}$"
          },
          "metadata": {},
          "execution_count": 18
        }
      ]
    },
    {
      "cell_type": "code",
      "source": [
        "inverse_laplace_transform(Ys, s, t)"
      ],
      "metadata": {
        "id": "Y10Wbx6hQf6B",
        "outputId": "a99f41bf-9ef5-440d-ebe5-ec9efa117b93",
        "colab": {
          "base_uri": "https://localhost:8080/",
          "height": 38
        }
      },
      "execution_count": 19,
      "outputs": [
        {
          "output_type": "execute_result",
          "data": {
            "text/plain": [
              " 3⋅t              \n",
              "ℯ   ⋅cos(2⋅t)⋅θ(t)"
            ],
            "text/latex": "$\\displaystyle e^{3 t} \\cos{\\left(2 t \\right)} \\theta\\left(t\\right)$"
          },
          "metadata": {},
          "execution_count": 19
        }
      ]
    }
  ]
}