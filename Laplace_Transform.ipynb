{
  "nbformat": 4,
  "nbformat_minor": 0,
  "metadata": {
    "colab": {
      "provenance": [],
      "authorship_tag": "ABX9TyOa/aPogypuhptrpXcHl8oF",
      "include_colab_link": true
    },
    "kernelspec": {
      "name": "python3",
      "display_name": "Python 3"
    },
    "language_info": {
      "name": "python"
    }
  },
  "cells": [
    {
      "cell_type": "markdown",
      "metadata": {
        "id": "view-in-github",
        "colab_type": "text"
      },
      "source": [
        "<a href=\"https://colab.research.google.com/github/Ragnarok540/sympy-tutorial/blob/main/Laplace_Transform.ipynb\" target=\"_parent\"><img src=\"https://colab.research.google.com/assets/colab-badge.svg\" alt=\"Open In Colab\"/></a>"
      ]
    },
    {
      "cell_type": "code",
      "execution_count": 7,
      "metadata": {
        "id": "I4ns4K7GvJsA"
      },
      "outputs": [],
      "source": [
        "# https://www.youtube.com/watch?v=3uYb-RhM7lU\n",
        "# https://www.youtube.com/watch?v=EdQ7Q9VoF44\n",
        "\n",
        "import sympy as smp\n",
        "from sympy import Function, diff, solve, exp\n",
        "import sympy.physics.mechanics as smp_mech\n",
        "from sympy.integrals import (laplace_transform,\n",
        "                             laplace_correspondence,\n",
        "                             laplace_initial_conds,\n",
        "                             inverse_laplace_transform)\n",
        "from sympy.abc import t, s"
      ]
    },
    {
      "cell_type": "code",
      "source": [
        "smp_mech.init_vprinting()\n",
        "\n",
        "# Example 1\n",
        "\n",
        "y = Function('y')\n",
        "Y = Function('Y')\n",
        "\n",
        "f = diff(y(t), t, 2) + 5 * diff(y(t), t) + 6 * y(t)\n",
        "f"
      ],
      "metadata": {
        "colab": {
          "base_uri": "https://localhost:8080/",
          "height": 38
        },
        "id": "18rEUbuo61sa",
        "outputId": "a90f4e63-3c57-4fe3-9f94-5675cf69d9d8"
      },
      "execution_count": 2,
      "outputs": [
        {
          "output_type": "execute_result",
          "data": {
            "text/plain": [
              "6⋅y + 5⋅ẏ + ÿ"
            ],
            "text/latex": "$\\displaystyle 6 y + 5 \\dot{y} + \\ddot{y}$"
          },
          "metadata": {},
          "execution_count": 2
        }
      ]
    },
    {
      "cell_type": "code",
      "source": [
        "F = laplace_transform(f, t, s, noconds=True)\n",
        "F = laplace_correspondence(F, {y: Y})\n",
        "F = laplace_initial_conds(F, t, {y: [2, 3]})\n",
        "F"
      ],
      "metadata": {
        "colab": {
          "base_uri": "https://localhost:8080/",
          "height": 38
        },
        "id": "OcKsTX1_zJtw",
        "outputId": "b4ef121f-c33a-4589-835b-f6c4c8f5c60a"
      },
      "execution_count": 3,
      "outputs": [
        {
          "output_type": "execute_result",
          "data": {
            "text/plain": [
              " 2                                    \n",
              "s ⋅Y(s) + 5⋅s⋅Y(s) - 2⋅s + 6⋅Y(s) - 13"
            ],
            "text/latex": "$\\displaystyle s^{2} Y{\\left(s \\right)} + 5 s Y{\\left(s \\right)} - 2 s + 6 Y{\\left(s \\right)} - 13$"
          },
          "metadata": {},
          "execution_count": 3
        }
      ]
    },
    {
      "cell_type": "code",
      "source": [
        "Ys = solve(F, Y(s))\n",
        "Ys[0]"
      ],
      "metadata": {
        "colab": {
          "base_uri": "https://localhost:8080/",
          "height": 52
        },
        "id": "VUpUgLjH_lOJ",
        "outputId": "2bc551a9-f3f8-43a8-c867-7290aeb81d3d"
      },
      "execution_count": 4,
      "outputs": [
        {
          "output_type": "execute_result",
          "data": {
            "text/plain": [
              "  2⋅s + 13  \n",
              "────────────\n",
              " 2          \n",
              "s  + 5⋅s + 6"
            ],
            "text/latex": "$\\displaystyle \\frac{2 s + 13}{s^{2} + 5 s + 6}$"
          },
          "metadata": {},
          "execution_count": 4
        }
      ]
    },
    {
      "cell_type": "code",
      "source": [
        "inverse_laplace_transform(Ys[0], s, t)"
      ],
      "metadata": {
        "colab": {
          "base_uri": "https://localhost:8080/",
          "height": 38
        },
        "id": "9gXOKSobAttN",
        "outputId": "ec010352-22c2-4fcc-d457-8ee7a0ac8c6b"
      },
      "execution_count": 5,
      "outputs": [
        {
          "output_type": "execute_result",
          "data": {
            "text/plain": [
              "   -2⋅t           -3⋅t     \n",
              "9⋅ℯ    ⋅θ(t) - 7⋅ℯ    ⋅θ(t)"
            ],
            "text/latex": "$\\displaystyle 9 e^{- 2 t} \\theta\\left(t\\right) - 7 e^{- 3 t} \\theta\\left(t\\right)$"
          },
          "metadata": {},
          "execution_count": 5
        }
      ]
    },
    {
      "cell_type": "code",
      "source": [
        "# Example 2\n",
        "\n",
        "y = Function('y')\n",
        "Y = Function('Y')\n",
        "\n",
        "f = diff(y(t), t) - 3 * y(t) - exp(2 * t)\n",
        "f"
      ],
      "metadata": {
        "id": "C9dD9iwPof-z",
        "outputId": "2b3564df-e4c6-40ef-9b0c-149157190cb1",
        "colab": {
          "base_uri": "https://localhost:8080/",
          "height": 38
        }
      },
      "execution_count": 8,
      "outputs": [
        {
          "output_type": "execute_result",
          "data": {
            "text/plain": [
              "        2⋅t    \n",
              "-3⋅y - ℯ    + ẏ"
            ],
            "text/latex": "$\\displaystyle - 3 y - e^{2 t} + \\dot{y}$"
          },
          "metadata": {},
          "execution_count": 8
        }
      ]
    },
    {
      "cell_type": "code",
      "source": [
        "F = laplace_transform(f, t, s, noconds=True)\n",
        "F = laplace_correspondence(F, {y: Y})\n",
        "F = laplace_initial_conds(F, t, {y: [1]})\n",
        "F"
      ],
      "metadata": {
        "id": "z3RsXhqjpXpq",
        "outputId": "a6fb4250-36c2-470a-b669-25e335c30f4c",
        "colab": {
          "base_uri": "https://localhost:8080/",
          "height": 52
        }
      },
      "execution_count": 9,
      "outputs": [
        {
          "output_type": "execute_result",
          "data": {
            "text/plain": [
              "                        1  \n",
              "s⋅Y(s) - 3⋅Y(s) - 1 - ─────\n",
              "                      s - 2"
            ],
            "text/latex": "$\\displaystyle s Y{\\left(s \\right)} - 3 Y{\\left(s \\right)} - 1 - \\frac{1}{s - 2}$"
          },
          "metadata": {},
          "execution_count": 9
        }
      ]
    },
    {
      "cell_type": "code",
      "source": [
        "Ys = solve(F, Y(s))\n",
        "Ys[0]"
      ],
      "metadata": {
        "id": "LDRN6qPLpgvi",
        "outputId": "7127d754-2bfa-419a-aec9-bdaeaac1fdde",
        "colab": {
          "base_uri": "https://localhost:8080/",
          "height": 52
        }
      },
      "execution_count": 10,
      "outputs": [
        {
          "output_type": "execute_result",
          "data": {
            "text/plain": [
              "   s - 1    \n",
              "────────────\n",
              " 2          \n",
              "s  - 5⋅s + 6"
            ],
            "text/latex": "$\\displaystyle \\frac{s - 1}{s^{2} - 5 s + 6}$"
          },
          "metadata": {},
          "execution_count": 10
        }
      ]
    },
    {
      "cell_type": "code",
      "source": [
        "inverse_laplace_transform(Ys[0], s, t)"
      ],
      "metadata": {
        "id": "0Sny-226pi7h",
        "outputId": "9ea6191c-3cf8-4015-c9e0-4fb18c04a00e",
        "colab": {
          "base_uri": "https://localhost:8080/",
          "height": 38
        }
      },
      "execution_count": 11,
      "outputs": [
        {
          "output_type": "execute_result",
          "data": {
            "text/plain": [
              "   3⋅t         2⋅t     \n",
              "2⋅ℯ   ⋅θ(t) - ℯ   ⋅θ(t)"
            ],
            "text/latex": "$\\displaystyle 2 e^{3 t} \\theta\\left(t\\right) - e^{2 t} \\theta\\left(t\\right)$"
          },
          "metadata": {},
          "execution_count": 11
        }
      ]
    }
  ]
}