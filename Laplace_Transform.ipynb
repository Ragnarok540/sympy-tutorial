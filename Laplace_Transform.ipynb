{
  "nbformat": 4,
  "nbformat_minor": 0,
  "metadata": {
    "colab": {
      "provenance": [],
      "authorship_tag": "ABX9TyNYrRVPs6n6h6L1UofKyKoi",
      "include_colab_link": true
    },
    "kernelspec": {
      "name": "python3",
      "display_name": "Python 3"
    },
    "language_info": {
      "name": "python"
    }
  },
  "cells": [
    {
      "cell_type": "markdown",
      "metadata": {
        "id": "view-in-github",
        "colab_type": "text"
      },
      "source": [
        "<a href=\"https://colab.research.google.com/github/Ragnarok540/sympy-tutorial/blob/main/Laplace_Transform.ipynb\" target=\"_parent\"><img src=\"https://colab.research.google.com/assets/colab-badge.svg\" alt=\"Open In Colab\"/></a>"
      ]
    },
    {
      "cell_type": "code",
      "execution_count": 1,
      "metadata": {
        "id": "I4ns4K7GvJsA"
      },
      "outputs": [],
      "source": [
        "# https://www.youtube.com/watch?v=3uYb-RhM7lU\n",
        "# https://www.youtube.com/watch?v=EdQ7Q9VoF44\n",
        "\n",
        "import sympy as smp\n",
        "from sympy import Function, diff, solve, exp\n",
        "import sympy.physics.mechanics as smp_mech\n",
        "from sympy.integrals import (laplace_transform,\n",
        "                             laplace_correspondence,\n",
        "                             laplace_initial_conds,\n",
        "                             inverse_laplace_transform)\n",
        "from sympy.abc import t, s"
      ]
    },
    {
      "cell_type": "code",
      "source": [
        "smp_mech.init_vprinting()\n",
        "\n",
        "# Example 1\n",
        "\n",
        "y = Function('y')\n",
        "Y = Function('Y')\n",
        "\n",
        "f = diff(y(t), t, 2) + 5 * diff(y(t), t) + 6 * y(t)\n",
        "f"
      ],
      "metadata": {
        "colab": {
          "base_uri": "https://localhost:8080/",
          "height": 38
        },
        "id": "18rEUbuo61sa",
        "outputId": "aff1f6bb-92a8-40d2-8dcb-0c732a74fbfd"
      },
      "execution_count": 2,
      "outputs": [
        {
          "output_type": "execute_result",
          "data": {
            "text/plain": [
              "6⋅y + 5⋅ẏ + ÿ"
            ],
            "text/latex": "$\\displaystyle 6 y + 5 \\dot{y} + \\ddot{y}$"
          },
          "metadata": {},
          "execution_count": 2
        }
      ]
    },
    {
      "cell_type": "code",
      "source": [
        "F = laplace_transform(f, t, s, noconds=True)\n",
        "F = laplace_correspondence(F, {y: Y})\n",
        "F = laplace_initial_conds(F, t, {y: [2, 3]})\n",
        "F"
      ],
      "metadata": {
        "colab": {
          "base_uri": "https://localhost:8080/",
          "height": 38
        },
        "id": "OcKsTX1_zJtw",
        "outputId": "5b65f343-2aa3-455e-d7a4-029a24d4cf0e"
      },
      "execution_count": 3,
      "outputs": [
        {
          "output_type": "execute_result",
          "data": {
            "text/plain": [
              " 2                                    \n",
              "s ⋅Y(s) + 5⋅s⋅Y(s) - 2⋅s + 6⋅Y(s) - 13"
            ],
            "text/latex": "$\\displaystyle s^{2} Y{\\left(s \\right)} + 5 s Y{\\left(s \\right)} - 2 s + 6 Y{\\left(s \\right)} - 13$"
          },
          "metadata": {},
          "execution_count": 3
        }
      ]
    },
    {
      "cell_type": "code",
      "source": [
        "Ys = solve(F, Y(s))\n",
        "Ys[0]"
      ],
      "metadata": {
        "colab": {
          "base_uri": "https://localhost:8080/",
          "height": 52
        },
        "id": "VUpUgLjH_lOJ",
        "outputId": "9aadc13b-efb2-46af-9a6a-9233338ce051"
      },
      "execution_count": 4,
      "outputs": [
        {
          "output_type": "execute_result",
          "data": {
            "text/plain": [
              "  2⋅s + 13  \n",
              "────────────\n",
              " 2          \n",
              "s  + 5⋅s + 6"
            ],
            "text/latex": "$\\displaystyle \\frac{2 s + 13}{s^{2} + 5 s + 6}$"
          },
          "metadata": {},
          "execution_count": 4
        }
      ]
    },
    {
      "cell_type": "code",
      "source": [
        "inverse_laplace_transform(Ys[0], s, t)"
      ],
      "metadata": {
        "colab": {
          "base_uri": "https://localhost:8080/",
          "height": 38
        },
        "id": "9gXOKSobAttN",
        "outputId": "51225fdf-b448-4882-c10d-c37532b49b21"
      },
      "execution_count": 5,
      "outputs": [
        {
          "output_type": "execute_result",
          "data": {
            "text/plain": [
              "   -2⋅t           -3⋅t     \n",
              "9⋅ℯ    ⋅θ(t) - 7⋅ℯ    ⋅θ(t)"
            ],
            "text/latex": "$\\displaystyle 9 e^{- 2 t} \\theta\\left(t\\right) - 7 e^{- 3 t} \\theta\\left(t\\right)$"
          },
          "metadata": {},
          "execution_count": 5
        }
      ]
    },
    {
      "cell_type": "code",
      "source": [
        "# Example 2\n",
        "\n",
        "y = Function('y')\n",
        "Y = Function('Y')\n",
        "\n",
        "f = diff(y(t), t) - 3 * y(t) - exp(2 * t)\n",
        "f"
      ],
      "metadata": {
        "id": "C9dD9iwPof-z",
        "outputId": "126cbc9b-7cea-4641-a125-52eddc4ad350",
        "colab": {
          "base_uri": "https://localhost:8080/",
          "height": 38
        }
      },
      "execution_count": 6,
      "outputs": [
        {
          "output_type": "execute_result",
          "data": {
            "text/plain": [
              "        2⋅t    \n",
              "-3⋅y - ℯ    + ẏ"
            ],
            "text/latex": "$\\displaystyle - 3 y - e^{2 t} + \\dot{y}$"
          },
          "metadata": {},
          "execution_count": 6
        }
      ]
    },
    {
      "cell_type": "code",
      "source": [
        "F = laplace_transform(f, t, s, noconds=True)\n",
        "F = laplace_correspondence(F, {y: Y})\n",
        "F = laplace_initial_conds(F, t, {y: [1]})\n",
        "F"
      ],
      "metadata": {
        "id": "z3RsXhqjpXpq",
        "outputId": "e0a04316-30cb-4338-d4df-fedc6421c6e7",
        "colab": {
          "base_uri": "https://localhost:8080/",
          "height": 52
        }
      },
      "execution_count": 7,
      "outputs": [
        {
          "output_type": "execute_result",
          "data": {
            "text/plain": [
              "                        1  \n",
              "s⋅Y(s) - 3⋅Y(s) - 1 - ─────\n",
              "                      s - 2"
            ],
            "text/latex": "$\\displaystyle s Y{\\left(s \\right)} - 3 Y{\\left(s \\right)} - 1 - \\frac{1}{s - 2}$"
          },
          "metadata": {},
          "execution_count": 7
        }
      ]
    },
    {
      "cell_type": "code",
      "source": [
        "Ys = solve(F, Y(s))\n",
        "Ys[0]"
      ],
      "metadata": {
        "id": "LDRN6qPLpgvi",
        "outputId": "c81d60d0-ecf5-47ab-f3e8-63c65385f719",
        "colab": {
          "base_uri": "https://localhost:8080/",
          "height": 52
        }
      },
      "execution_count": 8,
      "outputs": [
        {
          "output_type": "execute_result",
          "data": {
            "text/plain": [
              "   s - 1    \n",
              "────────────\n",
              " 2          \n",
              "s  - 5⋅s + 6"
            ],
            "text/latex": "$\\displaystyle \\frac{s - 1}{s^{2} - 5 s + 6}$"
          },
          "metadata": {},
          "execution_count": 8
        }
      ]
    },
    {
      "cell_type": "code",
      "source": [
        "inverse_laplace_transform(Ys[0], s, t)"
      ],
      "metadata": {
        "id": "0Sny-226pi7h",
        "outputId": "9679983b-a1a2-4cb1-c47c-a00a7de85dbf",
        "colab": {
          "base_uri": "https://localhost:8080/",
          "height": 38
        }
      },
      "execution_count": 9,
      "outputs": [
        {
          "output_type": "execute_result",
          "data": {
            "text/plain": [
              "   3⋅t         2⋅t     \n",
              "2⋅ℯ   ⋅θ(t) - ℯ   ⋅θ(t)"
            ],
            "text/latex": "$\\displaystyle 2 e^{3 t} \\theta\\left(t\\right) - e^{2 t} \\theta\\left(t\\right)$"
          },
          "metadata": {},
          "execution_count": 9
        }
      ]
    },
    {
      "cell_type": "code",
      "source": [
        "# Example 3\n",
        "\n",
        "Ys = 6 / ((s - 2) ** 4)\n",
        "\n",
        "Ys"
      ],
      "metadata": {
        "id": "58gh4Iqgpq22",
        "outputId": "b1af0e18-067c-442c-9cd9-8679486c1590",
        "colab": {
          "base_uri": "https://localhost:8080/",
          "height": 58
        }
      },
      "execution_count": 10,
      "outputs": [
        {
          "output_type": "execute_result",
          "data": {
            "text/plain": [
              "   6    \n",
              "────────\n",
              "       4\n",
              "(s - 2) "
            ],
            "text/latex": "$\\displaystyle \\frac{6}{\\left(s - 2\\right)^{4}}$"
          },
          "metadata": {},
          "execution_count": 10
        }
      ]
    },
    {
      "cell_type": "code",
      "source": [
        "inverse_laplace_transform(Ys, s, t)"
      ],
      "metadata": {
        "id": "lp2PmkEsqXUD",
        "outputId": "6be62ecc-fbaf-4e97-e388-a69ce09c459b",
        "colab": {
          "base_uri": "https://localhost:8080/",
          "height": 38
        }
      },
      "execution_count": 11,
      "outputs": [
        {
          "output_type": "execute_result",
          "data": {
            "text/plain": [
              " 3  2⋅t     \n",
              "t ⋅ℯ   ⋅θ(t)"
            ],
            "text/latex": "$\\displaystyle t^{3} e^{2 t} \\theta\\left(t\\right)$"
          },
          "metadata": {},
          "execution_count": 11
        }
      ]
    },
    {
      "cell_type": "code",
      "source": [
        "# Example 4\n",
        "\n",
        "Ys = (2 * (s - 1) * smp.exp(-2 * s)) / ((s - 1) ** 2 + 1)\n",
        "\n",
        "Ys"
      ],
      "metadata": {
        "id": "4JsrD6MfDoav",
        "outputId": "f26de679-029d-4e89-8cc2-61fb65e0a8d7",
        "colab": {
          "base_uri": "https://localhost:8080/",
          "height": 61
        }
      },
      "execution_count": 14,
      "outputs": [
        {
          "output_type": "execute_result",
          "data": {
            "text/plain": [
              "           -2⋅s\n",
              "(2⋅s - 2)⋅ℯ    \n",
              "───────────────\n",
              "        2      \n",
              " (s - 1)  + 1  "
            ],
            "text/latex": "$\\displaystyle \\frac{\\left(2 s - 2\\right) e^{- 2 s}}{\\left(s - 1\\right)^{2} + 1}$"
          },
          "metadata": {},
          "execution_count": 14
        }
      ]
    },
    {
      "cell_type": "code",
      "source": [
        "inv = inverse_laplace_transform(Ys, s, t)\n",
        "inv"
      ],
      "metadata": {
        "id": "xIapzzCHEMJa",
        "outputId": "7e469981-c4fd-4602-a53c-c8f9e1709f78",
        "colab": {
          "base_uri": "https://localhost:8080/",
          "height": 38
        }
      },
      "execution_count": 16,
      "outputs": [
        {
          "output_type": "execute_result",
          "data": {
            "text/plain": [
              "  ⎛ t - 2               t - 2           ⎞               t - 2                  ↪\n",
              "2⋅⎝ℯ     ⋅sin(t - 2) + ℯ     ⋅cos(t - 2)⎠⋅θ(t - 2) - 2⋅ℯ     ⋅sin(t - 2)⋅θ(t - ↪\n",
              "\n",
              "↪    \n",
              "↪  2)"
            ],
            "text/latex": "$\\displaystyle 2 \\left(e^{t - 2} \\sin{\\left(t - 2 \\right)} + e^{t - 2} \\cos{\\left(t - 2 \\right)}\\right) \\theta\\left(t - 2\\right) - 2 e^{t - 2} \\sin{\\left(t - 2 \\right)} \\theta\\left(t - 2\\right)$"
          },
          "metadata": {},
          "execution_count": 16
        }
      ]
    },
    {
      "cell_type": "code",
      "source": [
        "smp.simplify(inv)"
      ],
      "metadata": {
        "id": "t0WEZIflE5dB",
        "outputId": "7d7436b9-c337-44ef-e622-ef228d18d367",
        "colab": {
          "base_uri": "https://localhost:8080/",
          "height": 38
        }
      },
      "execution_count": 18,
      "outputs": [
        {
          "output_type": "execute_result",
          "data": {
            "text/plain": [
              "   t - 2                    \n",
              "2⋅ℯ     ⋅cos(t - 2)⋅θ(t - 2)"
            ],
            "text/latex": "$\\displaystyle 2 e^{t - 2} \\cos{\\left(t - 2 \\right)} \\theta\\left(t - 2\\right)$"
          },
          "metadata": {},
          "execution_count": 18
        }
      ]
    }
  ]
}