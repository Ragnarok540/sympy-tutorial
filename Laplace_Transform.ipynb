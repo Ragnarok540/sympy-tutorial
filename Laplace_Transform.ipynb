{
  "nbformat": 4,
  "nbformat_minor": 0,
  "metadata": {
    "colab": {
      "provenance": [],
      "authorship_tag": "ABX9TyMe0yfMSSe2zdHY8vlYOSUZ",
      "include_colab_link": true
    },
    "kernelspec": {
      "name": "python3",
      "display_name": "Python 3"
    },
    "language_info": {
      "name": "python"
    }
  },
  "cells": [
    {
      "cell_type": "markdown",
      "metadata": {
        "id": "view-in-github",
        "colab_type": "text"
      },
      "source": [
        "<a href=\"https://colab.research.google.com/github/Ragnarok540/sympy-tutorial/blob/main/Laplace_Transform.ipynb\" target=\"_parent\"><img src=\"https://colab.research.google.com/assets/colab-badge.svg\" alt=\"Open In Colab\"/></a>"
      ]
    },
    {
      "cell_type": "code",
      "execution_count": 98,
      "metadata": {
        "id": "I4ns4K7GvJsA"
      },
      "outputs": [],
      "source": [
        "# https://www.youtube.com/watch?v=3uYb-RhM7lU\n",
        "# https://www.youtube.com/watch?v=EdQ7Q9VoF44\n",
        "\n",
        "import sympy as smp\n",
        "from sympy import Function, diff, solve\n",
        "import sympy.physics.mechanics as smp_mech\n",
        "from sympy.integrals import laplace_transform, laplace_correspondence, laplace_initial_conds, inverse_laplace_transform\n",
        "from sympy.abc import t, s"
      ]
    },
    {
      "cell_type": "code",
      "source": [
        "smp_mech.init_vprinting()\n",
        "\n",
        "y = Function('y')\n",
        "Y = Function('Y')\n",
        "\n",
        "f = diff(y(t), t, 2) + 5 * diff(y(t), t) + 6 * y(t)\n",
        "f"
      ],
      "metadata": {
        "colab": {
          "base_uri": "https://localhost:8080/",
          "height": 38
        },
        "id": "18rEUbuo61sa",
        "outputId": "554e059a-5a88-47cf-96b8-31bb8ac196e9"
      },
      "execution_count": 99,
      "outputs": [
        {
          "output_type": "execute_result",
          "data": {
            "text/plain": [
              "6⋅y + 5⋅ẏ + ÿ"
            ],
            "text/latex": "$\\displaystyle 6 y + 5 \\dot{y} + \\ddot{y}$"
          },
          "metadata": {},
          "execution_count": 99
        }
      ]
    },
    {
      "cell_type": "code",
      "source": [
        "F = laplace_transform(f, t, s, noconds=True)\n",
        "F = laplace_correspondence(F, {y: Y})\n",
        "F = laplace_initial_conds(F, t, {y: [2, 3]})\n",
        "F"
      ],
      "metadata": {
        "colab": {
          "base_uri": "https://localhost:8080/",
          "height": 38
        },
        "id": "OcKsTX1_zJtw",
        "outputId": "ce26889b-5f16-48e8-e286-00e8ba3f14ff"
      },
      "execution_count": 100,
      "outputs": [
        {
          "output_type": "execute_result",
          "data": {
            "text/plain": [
              " 2                                    \n",
              "s ⋅Y(s) + 5⋅s⋅Y(s) - 2⋅s + 6⋅Y(s) - 13"
            ],
            "text/latex": "$\\displaystyle s^{2} Y{\\left(s \\right)} + 5 s Y{\\left(s \\right)} - 2 s + 6 Y{\\left(s \\right)} - 13$"
          },
          "metadata": {},
          "execution_count": 100
        }
      ]
    },
    {
      "cell_type": "code",
      "source": [
        "Ys = solve(F, Y(s))\n",
        "Ys[0]"
      ],
      "metadata": {
        "colab": {
          "base_uri": "https://localhost:8080/",
          "height": 52
        },
        "id": "VUpUgLjH_lOJ",
        "outputId": "ca18eb92-0c28-45d3-e46d-cddd38a7a447"
      },
      "execution_count": 101,
      "outputs": [
        {
          "output_type": "execute_result",
          "data": {
            "text/plain": [
              "  2⋅s + 13  \n",
              "────────────\n",
              " 2          \n",
              "s  + 5⋅s + 6"
            ],
            "text/latex": "$\\displaystyle \\frac{2 s + 13}{s^{2} + 5 s + 6}$"
          },
          "metadata": {},
          "execution_count": 101
        }
      ]
    },
    {
      "cell_type": "code",
      "source": [
        "inverse_laplace_transform(Ys[0], s, t)"
      ],
      "metadata": {
        "colab": {
          "base_uri": "https://localhost:8080/",
          "height": 38
        },
        "id": "9gXOKSobAttN",
        "outputId": "a79fa1c0-ef4a-41ab-d691-69930513b39d"
      },
      "execution_count": 107,
      "outputs": [
        {
          "output_type": "execute_result",
          "data": {
            "text/plain": [
              "   -2⋅t           -3⋅t     \n",
              "9⋅ℯ    ⋅θ(t) - 7⋅ℯ    ⋅θ(t)"
            ],
            "text/latex": "$\\displaystyle 9 e^{- 2 t} \\theta\\left(t\\right) - 7 e^{- 3 t} \\theta\\left(t\\right)$"
          },
          "metadata": {},
          "execution_count": 107
        }
      ]
    }
  ]
}