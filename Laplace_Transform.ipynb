{
  "nbformat": 4,
  "nbformat_minor": 0,
  "metadata": {
    "colab": {
      "provenance": [],
      "authorship_tag": "ABX9TyOk2SCTTSOvFjurkJwahBVX",
      "include_colab_link": true
    },
    "kernelspec": {
      "name": "python3",
      "display_name": "Python 3"
    },
    "language_info": {
      "name": "python"
    }
  },
  "cells": [
    {
      "cell_type": "markdown",
      "metadata": {
        "id": "view-in-github",
        "colab_type": "text"
      },
      "source": [
        "<a href=\"https://colab.research.google.com/github/Ragnarok540/sympy-tutorial/blob/main/Laplace_Transform.ipynb\" target=\"_parent\"><img src=\"https://colab.research.google.com/assets/colab-badge.svg\" alt=\"Open In Colab\"/></a>"
      ]
    },
    {
      "cell_type": "code",
      "execution_count": 1,
      "metadata": {
        "id": "I4ns4K7GvJsA"
      },
      "outputs": [],
      "source": [
        "# https://www.youtube.com/watch?v=3uYb-RhM7lU\n",
        "# https://www.youtube.com/watch?v=EdQ7Q9VoF44\n",
        "\n",
        "import sympy as smp\n",
        "from sympy import Function, diff, solve, exp\n",
        "import sympy.physics.mechanics as smp_mech\n",
        "from sympy.integrals import (laplace_transform,\n",
        "                             laplace_correspondence,\n",
        "                             laplace_initial_conds,\n",
        "                             inverse_laplace_transform)\n",
        "from sympy.abc import t, s, a"
      ]
    },
    {
      "cell_type": "code",
      "source": [
        "smp_mech.init_vprinting()\n",
        "\n",
        "# Example 1\n",
        "\n",
        "y = Function('y')\n",
        "Y = Function('Y')\n",
        "\n",
        "f = diff(y(t), t, 2) + 5 * diff(y(t), t) + 6 * y(t)\n",
        "f"
      ],
      "metadata": {
        "colab": {
          "base_uri": "https://localhost:8080/",
          "height": 38
        },
        "id": "18rEUbuo61sa",
        "outputId": "5cd4f57f-b3f2-443c-b9a9-e33ede2a4ce9"
      },
      "execution_count": 2,
      "outputs": [
        {
          "output_type": "execute_result",
          "data": {
            "text/plain": [
              "6⋅y + 5⋅ẏ + ÿ"
            ],
            "text/latex": "$\\displaystyle 6 y + 5 \\dot{y} + \\ddot{y}$"
          },
          "metadata": {},
          "execution_count": 2
        }
      ]
    },
    {
      "cell_type": "code",
      "source": [
        "F = laplace_transform(f, t, s, noconds=True)\n",
        "F = laplace_correspondence(F, {y: Y})\n",
        "F = laplace_initial_conds(F, t, {y: [2, 3]})\n",
        "F"
      ],
      "metadata": {
        "colab": {
          "base_uri": "https://localhost:8080/",
          "height": 38
        },
        "id": "OcKsTX1_zJtw",
        "outputId": "2223b19a-51c6-4e9d-f84b-bc5b2775d124"
      },
      "execution_count": 3,
      "outputs": [
        {
          "output_type": "execute_result",
          "data": {
            "text/plain": [
              " 2                                    \n",
              "s ⋅Y(s) + 5⋅s⋅Y(s) - 2⋅s + 6⋅Y(s) - 13"
            ],
            "text/latex": "$\\displaystyle s^{2} Y{\\left(s \\right)} + 5 s Y{\\left(s \\right)} - 2 s + 6 Y{\\left(s \\right)} - 13$"
          },
          "metadata": {},
          "execution_count": 3
        }
      ]
    },
    {
      "cell_type": "code",
      "source": [
        "Ys = solve(F, Y(s))\n",
        "Ys[0]"
      ],
      "metadata": {
        "colab": {
          "base_uri": "https://localhost:8080/",
          "height": 52
        },
        "id": "VUpUgLjH_lOJ",
        "outputId": "7cfb8e7d-f675-472a-a776-1219e7625983"
      },
      "execution_count": 4,
      "outputs": [
        {
          "output_type": "execute_result",
          "data": {
            "text/plain": [
              "  2⋅s + 13  \n",
              "────────────\n",
              " 2          \n",
              "s  + 5⋅s + 6"
            ],
            "text/latex": "$\\displaystyle \\frac{2 s + 13}{s^{2} + 5 s + 6}$"
          },
          "metadata": {},
          "execution_count": 4
        }
      ]
    },
    {
      "cell_type": "code",
      "source": [
        "inverse_laplace_transform(Ys[0], s, t)"
      ],
      "metadata": {
        "colab": {
          "base_uri": "https://localhost:8080/",
          "height": 38
        },
        "id": "9gXOKSobAttN",
        "outputId": "c0ca76de-3301-4c26-b226-6831a68d82da"
      },
      "execution_count": 5,
      "outputs": [
        {
          "output_type": "execute_result",
          "data": {
            "text/plain": [
              "   -2⋅t           -3⋅t     \n",
              "9⋅ℯ    ⋅θ(t) - 7⋅ℯ    ⋅θ(t)"
            ],
            "text/latex": "$\\displaystyle 9 e^{- 2 t} \\theta\\left(t\\right) - 7 e^{- 3 t} \\theta\\left(t\\right)$"
          },
          "metadata": {},
          "execution_count": 5
        }
      ]
    },
    {
      "cell_type": "code",
      "source": [
        "# Example 2\n",
        "\n",
        "y = Function('y')\n",
        "Y = Function('Y')\n",
        "\n",
        "f = diff(y(t), t) - 3 * y(t) - exp(2 * t)\n",
        "f"
      ],
      "metadata": {
        "id": "C9dD9iwPof-z",
        "outputId": "aa971cce-fea3-4119-df92-97adbc8c2b9b",
        "colab": {
          "base_uri": "https://localhost:8080/",
          "height": 38
        }
      },
      "execution_count": 6,
      "outputs": [
        {
          "output_type": "execute_result",
          "data": {
            "text/plain": [
              "        2⋅t    \n",
              "-3⋅y - ℯ    + ẏ"
            ],
            "text/latex": "$\\displaystyle - 3 y - e^{2 t} + \\dot{y}$"
          },
          "metadata": {},
          "execution_count": 6
        }
      ]
    },
    {
      "cell_type": "code",
      "source": [
        "F = laplace_transform(f, t, s, noconds=True)\n",
        "F = laplace_correspondence(F, {y: Y})\n",
        "F = laplace_initial_conds(F, t, {y: [1]})\n",
        "F"
      ],
      "metadata": {
        "id": "z3RsXhqjpXpq",
        "outputId": "0d83bc24-9c79-45f5-a300-28cf4dead025",
        "colab": {
          "base_uri": "https://localhost:8080/",
          "height": 52
        }
      },
      "execution_count": 7,
      "outputs": [
        {
          "output_type": "execute_result",
          "data": {
            "text/plain": [
              "                        1  \n",
              "s⋅Y(s) - 3⋅Y(s) - 1 - ─────\n",
              "                      s - 2"
            ],
            "text/latex": "$\\displaystyle s Y{\\left(s \\right)} - 3 Y{\\left(s \\right)} - 1 - \\frac{1}{s - 2}$"
          },
          "metadata": {},
          "execution_count": 7
        }
      ]
    },
    {
      "cell_type": "code",
      "source": [
        "Ys = solve(F, Y(s))\n",
        "Ys[0]"
      ],
      "metadata": {
        "id": "LDRN6qPLpgvi",
        "outputId": "5baedbfe-847c-4d0c-b06e-92c2a018ce08",
        "colab": {
          "base_uri": "https://localhost:8080/",
          "height": 52
        }
      },
      "execution_count": 8,
      "outputs": [
        {
          "output_type": "execute_result",
          "data": {
            "text/plain": [
              "   s - 1    \n",
              "────────────\n",
              " 2          \n",
              "s  - 5⋅s + 6"
            ],
            "text/latex": "$\\displaystyle \\frac{s - 1}{s^{2} - 5 s + 6}$"
          },
          "metadata": {},
          "execution_count": 8
        }
      ]
    },
    {
      "cell_type": "code",
      "source": [
        "inverse_laplace_transform(Ys[0], s, t)"
      ],
      "metadata": {
        "id": "0Sny-226pi7h",
        "outputId": "ecaa6b06-4801-4d42-8881-8ad1886a24df",
        "colab": {
          "base_uri": "https://localhost:8080/",
          "height": 38
        }
      },
      "execution_count": 9,
      "outputs": [
        {
          "output_type": "execute_result",
          "data": {
            "text/plain": [
              "   3⋅t         2⋅t     \n",
              "2⋅ℯ   ⋅θ(t) - ℯ   ⋅θ(t)"
            ],
            "text/latex": "$\\displaystyle 2 e^{3 t} \\theta\\left(t\\right) - e^{2 t} \\theta\\left(t\\right)$"
          },
          "metadata": {},
          "execution_count": 9
        }
      ]
    },
    {
      "cell_type": "code",
      "source": [
        "# Example 3\n",
        "\n",
        "Ys = 6 / ((s - 2) ** 4)\n",
        "\n",
        "Ys"
      ],
      "metadata": {
        "id": "58gh4Iqgpq22",
        "outputId": "8d717169-8c56-44f9-8d30-7e4e5f6fb600",
        "colab": {
          "base_uri": "https://localhost:8080/",
          "height": 58
        }
      },
      "execution_count": 10,
      "outputs": [
        {
          "output_type": "execute_result",
          "data": {
            "text/plain": [
              "   6    \n",
              "────────\n",
              "       4\n",
              "(s - 2) "
            ],
            "text/latex": "$\\displaystyle \\frac{6}{\\left(s - 2\\right)^{4}}$"
          },
          "metadata": {},
          "execution_count": 10
        }
      ]
    },
    {
      "cell_type": "code",
      "source": [
        "inverse_laplace_transform(Ys, s, t)"
      ],
      "metadata": {
        "id": "lp2PmkEsqXUD",
        "outputId": "7b4e2cea-b044-4938-da29-538749d6b61b",
        "colab": {
          "base_uri": "https://localhost:8080/",
          "height": 38
        }
      },
      "execution_count": 11,
      "outputs": [
        {
          "output_type": "execute_result",
          "data": {
            "text/plain": [
              " 3  2⋅t     \n",
              "t ⋅ℯ   ⋅θ(t)"
            ],
            "text/latex": "$\\displaystyle t^{3} e^{2 t} \\theta\\left(t\\right)$"
          },
          "metadata": {},
          "execution_count": 11
        }
      ]
    },
    {
      "cell_type": "code",
      "source": [
        "# Example 4\n",
        "\n",
        "Ys = (2 * (s - 1) * smp.exp(-2 * s)) / ((s - 1) ** 2 + 1)\n",
        "\n",
        "Ys"
      ],
      "metadata": {
        "id": "4JsrD6MfDoav",
        "outputId": "00029c0d-7385-4e2f-9e11-6176a6ea8be1",
        "colab": {
          "base_uri": "https://localhost:8080/",
          "height": 61
        }
      },
      "execution_count": 12,
      "outputs": [
        {
          "output_type": "execute_result",
          "data": {
            "text/plain": [
              "           -2⋅s\n",
              "(2⋅s - 2)⋅ℯ    \n",
              "───────────────\n",
              "        2      \n",
              " (s - 1)  + 1  "
            ],
            "text/latex": "$\\displaystyle \\frac{\\left(2 s - 2\\right) e^{- 2 s}}{\\left(s - 1\\right)^{2} + 1}$"
          },
          "metadata": {},
          "execution_count": 12
        }
      ]
    },
    {
      "cell_type": "code",
      "source": [
        "inv = inverse_laplace_transform(Ys, s, t)\n",
        "inv"
      ],
      "metadata": {
        "id": "xIapzzCHEMJa",
        "outputId": "28109380-2335-483b-a086-efb821bdeb34",
        "colab": {
          "base_uri": "https://localhost:8080/",
          "height": 38
        }
      },
      "execution_count": 13,
      "outputs": [
        {
          "output_type": "execute_result",
          "data": {
            "text/plain": [
              "  ⎛ t - 2               t - 2           ⎞               t - 2                  ↪\n",
              "2⋅⎝ℯ     ⋅sin(t - 2) + ℯ     ⋅cos(t - 2)⎠⋅θ(t - 2) - 2⋅ℯ     ⋅sin(t - 2)⋅θ(t - ↪\n",
              "\n",
              "↪    \n",
              "↪  2)"
            ],
            "text/latex": "$\\displaystyle 2 \\left(e^{t - 2} \\sin{\\left(t - 2 \\right)} + e^{t - 2} \\cos{\\left(t - 2 \\right)}\\right) \\theta\\left(t - 2\\right) - 2 e^{t - 2} \\sin{\\left(t - 2 \\right)} \\theta\\left(t - 2\\right)$"
          },
          "metadata": {},
          "execution_count": 13
        }
      ]
    },
    {
      "cell_type": "code",
      "source": [
        "smp.simplify(inv)"
      ],
      "metadata": {
        "id": "t0WEZIflE5dB",
        "outputId": "4e1b0c7b-303d-4d9c-f28e-e0c740c3d133",
        "colab": {
          "base_uri": "https://localhost:8080/",
          "height": 38
        }
      },
      "execution_count": 14,
      "outputs": [
        {
          "output_type": "execute_result",
          "data": {
            "text/plain": [
              "   t - 2                    \n",
              "2⋅ℯ     ⋅cos(t - 2)⋅θ(t - 2)"
            ],
            "text/latex": "$\\displaystyle 2 e^{t - 2} \\cos{\\left(t - 2 \\right)} \\theta\\left(t - 2\\right)$"
          },
          "metadata": {},
          "execution_count": 14
        }
      ]
    },
    {
      "cell_type": "code",
      "source": [
        "# Example 5\n",
        "\n",
        "Ys = (s - 3) / ((s - 3) ** 2 + 4 )\n",
        "\n",
        "Ys"
      ],
      "metadata": {
        "outputId": "e9e066a1-535f-4940-9082-a2679a065331",
        "colab": {
          "base_uri": "https://localhost:8080/",
          "height": 58
        },
        "id": "WbrVPXxbQGqx"
      },
      "execution_count": 15,
      "outputs": [
        {
          "output_type": "execute_result",
          "data": {
            "text/plain": [
              "   s - 3    \n",
              "────────────\n",
              "       2    \n",
              "(s - 3)  + 4"
            ],
            "text/latex": "$\\displaystyle \\frac{s - 3}{\\left(s - 3\\right)^{2} + 4}$"
          },
          "metadata": {},
          "execution_count": 15
        }
      ]
    },
    {
      "cell_type": "code",
      "source": [
        "inverse_laplace_transform(Ys, s, t)"
      ],
      "metadata": {
        "id": "Y10Wbx6hQf6B",
        "outputId": "50623622-cca7-4faf-d2e8-299c13cfbfab",
        "colab": {
          "base_uri": "https://localhost:8080/",
          "height": 38
        }
      },
      "execution_count": 16,
      "outputs": [
        {
          "output_type": "execute_result",
          "data": {
            "text/plain": [
              " 3⋅t              \n",
              "ℯ   ⋅cos(2⋅t)⋅θ(t)"
            ],
            "text/latex": "$\\displaystyle e^{3 t} \\cos{\\left(2 t \\right)} \\theta\\left(t\\right)$"
          },
          "metadata": {},
          "execution_count": 16
        }
      ]
    },
    {
      "cell_type": "code",
      "source": [
        "# Example 6\n",
        "\n",
        "y = Function('y')\n",
        "Y = Function('Y')\n",
        "\n",
        "f = diff(y(t), t, 2) + y(t) - smp.sin(2 * t)\n",
        "f"
      ],
      "metadata": {
        "id": "ARjTRle2ONq8",
        "outputId": "70a5d988-b012-4c38-971e-1d65244973e6",
        "colab": {
          "base_uri": "https://localhost:8080/",
          "height": 38
        }
      },
      "execution_count": 17,
      "outputs": [
        {
          "output_type": "execute_result",
          "data": {
            "text/plain": [
              "y - sin(2⋅t) + ÿ"
            ],
            "text/latex": "$\\displaystyle y - \\sin{\\left(2 t \\right)} + \\ddot{y}$"
          },
          "metadata": {},
          "execution_count": 17
        }
      ]
    },
    {
      "cell_type": "code",
      "source": [
        "F = laplace_transform(f, t, s, noconds=True)\n",
        "F = laplace_correspondence(F, {y: Y})\n",
        "F = laplace_initial_conds(F, t, {y: [2, 1]})\n",
        "F"
      ],
      "metadata": {
        "id": "vCuoNJt2Oni5",
        "outputId": "8c8e87ee-3486-4bb6-a3ed-77dbc1bc1697",
        "colab": {
          "base_uri": "https://localhost:8080/",
          "height": 52
        }
      },
      "execution_count": 18,
      "outputs": [
        {
          "output_type": "execute_result",
          "data": {
            "text/plain": [
              " 2                           2   \n",
              "s ⋅Y(s) - 2⋅s + Y(s) - 1 - ──────\n",
              "                            2    \n",
              "                           s  + 4"
            ],
            "text/latex": "$\\displaystyle s^{2} Y{\\left(s \\right)} - 2 s + Y{\\left(s \\right)} - 1 - \\frac{2}{s^{2} + 4}$"
          },
          "metadata": {},
          "execution_count": 18
        }
      ]
    },
    {
      "cell_type": "code",
      "source": [
        "Ys = solve(F, Y(s))\n",
        "Ys[0]"
      ],
      "metadata": {
        "id": "s0Xm5fIpO0an",
        "outputId": "53af8f27-ca62-4aef-a2c8-327404c23908",
        "colab": {
          "base_uri": "https://localhost:8080/",
          "height": 55
        }
      },
      "execution_count": 19,
      "outputs": [
        {
          "output_type": "execute_result",
          "data": {
            "text/plain": [
              "   3    2          \n",
              "2⋅s  + s  + 8⋅s + 6\n",
              "───────────────────\n",
              "    4      2       \n",
              "   s  + 5⋅s  + 4   "
            ],
            "text/latex": "$\\displaystyle \\frac{2 s^{3} + s^{2} + 8 s + 6}{s^{4} + 5 s^{2} + 4}$"
          },
          "metadata": {},
          "execution_count": 19
        }
      ]
    },
    {
      "cell_type": "code",
      "source": [
        "inverse_laplace_transform(Ys[0], s, t)"
      ],
      "metadata": {
        "id": "BVY0tclUO8i4",
        "outputId": "cf6f4912-cad3-4b50-c589-308171172dd0",
        "colab": {
          "base_uri": "https://localhost:8080/",
          "height": 58
        }
      },
      "execution_count": 20,
      "outputs": [
        {
          "output_type": "execute_result",
          "data": {
            "text/plain": [
              "⎛5⋅sin(t)           ⎞        sin(2⋅t)⋅θ(t)\n",
              "⎜──────── + 2⋅cos(t)⎟⋅θ(t) - ─────────────\n",
              "⎝   3               ⎠              3      "
            ],
            "text/latex": "$\\displaystyle \\left(\\frac{5 \\sin{\\left(t \\right)}}{3} + 2 \\cos{\\left(t \\right)}\\right) \\theta\\left(t\\right) - \\frac{\\sin{\\left(2 t \\right)} \\theta\\left(t\\right)}{3}$"
          },
          "metadata": {},
          "execution_count": 20
        }
      ]
    },
    {
      "cell_type": "code",
      "source": [
        "# Example 7\n",
        "\n",
        "y = Function('y')\n",
        "Y = Function('Y')\n",
        "\n",
        "f = diff(y(t), t, 2) + 2 * diff(y(t), t) + 2 * y(t) - smp.sin(a * t)\n",
        "f"
      ],
      "metadata": {
        "id": "WD959FCFglky",
        "outputId": "46545ef1-3e62-4fd1-f302-8e79de5e84f1",
        "colab": {
          "base_uri": "https://localhost:8080/",
          "height": 38
        }
      },
      "execution_count": 21,
      "outputs": [
        {
          "output_type": "execute_result",
          "data": {
            "text/plain": [
              "2⋅y - sin(a⋅t) + 2⋅ẏ + ÿ"
            ],
            "text/latex": "$\\displaystyle 2 y - \\sin{\\left(a t \\right)} + 2 \\dot{y} + \\ddot{y}$"
          },
          "metadata": {},
          "execution_count": 21
        }
      ]
    },
    {
      "cell_type": "code",
      "source": [
        "F = laplace_transform(f, t, s, noconds=True)\n",
        "F = laplace_correspondence(F, {y: Y})\n",
        "F = laplace_initial_conds(F, t, {y: [0, 0]})\n",
        "F"
      ],
      "metadata": {
        "id": "S81K9BKJhCCd",
        "outputId": "09beba77-1cbc-4413-cf2e-cf91bfba1b1a",
        "colab": {
          "base_uri": "https://localhost:8080/",
          "height": 49
        }
      },
      "execution_count": 22,
      "outputs": [
        {
          "output_type": "execute_result",
          "data": {
            "text/plain": [
              "     a       2                         \n",
              "- ─────── + s ⋅Y(s) + 2⋅s⋅Y(s) + 2⋅Y(s)\n",
              "   2    2                              \n",
              "  a  + s                               "
            ],
            "text/latex": "$\\displaystyle - \\frac{a}{a^{2} + s^{2}} + s^{2} Y{\\left(s \\right)} + 2 s Y{\\left(s \\right)} + 2 Y{\\left(s \\right)}$"
          },
          "metadata": {},
          "execution_count": 22
        }
      ]
    },
    {
      "cell_type": "code",
      "source": [
        "Ys = solve(F, Y(s))\n",
        "Ys[0]"
      ],
      "metadata": {
        "id": "cFqD_-AthN89",
        "outputId": "c323b43d-5667-418a-aab2-0f0abfbdfde6",
        "colab": {
          "base_uri": "https://localhost:8080/",
          "height": 49
        }
      },
      "execution_count": 23,
      "outputs": [
        {
          "output_type": "execute_result",
          "data": {
            "text/plain": [
              "                   a                    \n",
              "────────────────────────────────────────\n",
              " 2  2      2        2    4      3      2\n",
              "a ⋅s  + 2⋅a ⋅s + 2⋅a  + s  + 2⋅s  + 2⋅s "
            ],
            "text/latex": "$\\displaystyle \\frac{a}{a^{2} s^{2} + 2 a^{2} s + 2 a^{2} + s^{4} + 2 s^{3} + 2 s^{2}}$"
          },
          "metadata": {},
          "execution_count": 23
        }
      ]
    },
    {
      "cell_type": "code",
      "source": [
        "inverse_laplace_transform(Ys[0], s, t)"
      ],
      "metadata": {
        "colab": {
          "base_uri": "https://localhost:8080/",
          "height": 98
        },
        "outputId": "f4abc35e-bfab-4159-af67-d84ae850967f",
        "id": "eLcJZlRjhYn6"
      },
      "execution_count": 24,
      "outputs": [
        {
          "output_type": "execute_result",
          "data": {
            "text/plain": [
              "  ⎛⎛                                                    ⎛   4    ⎞        ⎞    ↪\n",
              "  ⎜⎜                         ⎛   4    ⎞              -t⋅⎝2⋅a  + 8⎠        ⎟    ↪\n",
              "  ⎜⎜                      -t⋅⎝2⋅a  + 8⎠              ──────────────       ⎟    ↪\n",
              "  ⎜⎜                      ──────────────                 ⎛ 4    ⎞         ⎟    ↪\n",
              "  ⎜⎜⎛ 2          4     ⎞      ⎛ 4    ⎞                 2⋅⎝a  + 4⎠         ⎟    ↪\n",
              "  ⎜⎜⎜a  + 2   2⋅a  + 8 ⎟    2⋅⎝a  + 4⎠            2⋅ℯ              ⋅cos(t)⎟    ↪\n",
              "a⋅⎜⎜⎜────── - ─────────⎟⋅ℯ              ⋅sin(t) + ────────────────────────⎟⋅θ( ↪\n",
              "  ⎜⎜⎜ 4               2⎟                                    4             ⎟    ↪\n",
              "  ⎜⎜⎜a  + 4   ⎛ 4    ⎞ ⎟                                   a  + 4         ⎟    ↪\n",
              "  ⎝⎝⎝         ⎝a  + 4⎠ ⎠                                                  ⎠    ↪\n",
              "\n",
              "↪                                                 ⎞\n",
              "↪                                                 ⎟\n",
              "↪                                                 ⎟\n",
              "↪      ⎛            ⎛     ____⎞             ⎞     ⎟\n",
              "↪      ⎜⎛     2⎞    ⎜    ╱  2 ⎟             ⎟     ⎟\n",
              "↪      ⎜⎝2 - a ⎠⋅sin⎝t⋅╲╱  a  ⎠   2⋅cos(a⋅t)⎟     ⎟\n",
              "↪ t) + ⎜─────────────────────── - ──────────⎟⋅θ(t)⎟\n",
              "↪      ⎜               ____          4      ⎟     ⎟\n",
              "↪      ⎜   ⎛ 4    ⎞   ╱  2          a  + 4  ⎟     ⎟\n",
              "↪      ⎝   ⎝a  + 4⎠⋅╲╱  a                   ⎠     ⎠"
            ],
            "text/latex": "$\\displaystyle a \\left(\\left(\\left(\\frac{a^{2} + 2}{a^{4} + 4} - \\frac{2 a^{4} + 8}{\\left(a^{4} + 4\\right)^{2}}\\right) e^{- \\frac{t \\left(2 a^{4} + 8\\right)}{2 \\left(a^{4} + 4\\right)}} \\sin{\\left(t \\right)} + \\frac{2 e^{- \\frac{t \\left(2 a^{4} + 8\\right)}{2 \\left(a^{4} + 4\\right)}} \\cos{\\left(t \\right)}}{a^{4} + 4}\\right) \\theta\\left(t\\right) + \\left(\\frac{\\left(2 - a^{2}\\right) \\sin{\\left(t \\sqrt{a^{2}} \\right)}}{\\left(a^{4} + 4\\right) \\sqrt{a^{2}}} - \\frac{2 \\cos{\\left(a t \\right)}}{a^{4} + 4}\\right) \\theta\\left(t\\right)\\right)$"
          },
          "metadata": {},
          "execution_count": 24
        }
      ]
    }
  ]
}