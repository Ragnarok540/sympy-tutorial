{
  "nbformat": 4,
  "nbformat_minor": 0,
  "metadata": {
    "colab": {
      "provenance": [],
      "authorship_tag": "ABX9TyPWXJd5QsX4ib9r8PE9pGnc",
      "include_colab_link": true
    },
    "kernelspec": {
      "name": "python3",
      "display_name": "Python 3"
    },
    "language_info": {
      "name": "python"
    }
  },
  "cells": [
    {
      "cell_type": "markdown",
      "metadata": {
        "id": "view-in-github",
        "colab_type": "text"
      },
      "source": [
        "<a href=\"https://colab.research.google.com/github/Ragnarok540/sympy-tutorial/blob/main/SymPy_Tutorial.ipynb\" target=\"_parent\"><img src=\"https://colab.research.google.com/assets/colab-badge.svg\" alt=\"Open In Colab\"/></a>"
      ]
    },
    {
      "cell_type": "code",
      "execution_count": null,
      "metadata": {
        "colab": {
          "base_uri": "https://localhost:8080/",
          "height": 38
        },
        "id": "qYjW6t1xuKqR",
        "outputId": "7cfd2b8f-da20-40d7-c384-595ed9b31278"
      },
      "outputs": [
        {
          "output_type": "execute_result",
          "data": {
            "text/plain": [
              "x"
            ],
            "text/latex": "$\\displaystyle x$"
          },
          "metadata": {},
          "execution_count": 32
        }
      ],
      "source": [
        "import sympy as smp\n",
        "import numpy as np\n",
        "import matplotlib.pyplot as plt\n",
        "\n",
        "x = smp.symbols('x')\n",
        "x"
      ]
    },
    {
      "cell_type": "code",
      "source": [
        "x**2"
      ],
      "metadata": {
        "colab": {
          "base_uri": "https://localhost:8080/",
          "height": 38
        },
        "id": "syWpwwxpnO1c",
        "outputId": "4245e1a3-887f-4a9d-c4fc-bbe6a17dd1d3"
      },
      "execution_count": null,
      "outputs": [
        {
          "output_type": "execute_result",
          "data": {
            "text/plain": [
              "x**2"
            ],
            "text/latex": "$\\displaystyle x^{2}$"
          },
          "metadata": {},
          "execution_count": 7
        }
      ]
    },
    {
      "cell_type": "code",
      "source": [
        "smp.cos(x)"
      ],
      "metadata": {
        "colab": {
          "base_uri": "https://localhost:8080/",
          "height": 38
        },
        "id": "GOYh2_BvnT7y",
        "outputId": "3bb5fad4-36f7-474c-9197-b525951cce3f"
      },
      "execution_count": null,
      "outputs": [
        {
          "output_type": "execute_result",
          "data": {
            "text/plain": [
              "cos(x)"
            ],
            "text/latex": "$\\displaystyle \\cos{\\left(x \\right)}$"
          },
          "metadata": {},
          "execution_count": 9
        }
      ]
    },
    {
      "cell_type": "code",
      "source": [
        "y = x**2 + 4*x + 3\n",
        "y"
      ],
      "metadata": {
        "colab": {
          "base_uri": "https://localhost:8080/",
          "height": 38
        },
        "id": "YerU3ptKn4QJ",
        "outputId": "52c31dbc-a7cf-42ae-c6f4-cda66d16990f"
      },
      "execution_count": null,
      "outputs": [
        {
          "output_type": "execute_result",
          "data": {
            "text/plain": [
              "x**2 + 4*x + 3"
            ],
            "text/latex": "$\\displaystyle x^{2} + 4 x + 3$"
          },
          "metadata": {},
          "execution_count": 11
        }
      ]
    },
    {
      "cell_type": "code",
      "source": [
        "z = y**2\n",
        "z"
      ],
      "metadata": {
        "colab": {
          "base_uri": "https://localhost:8080/",
          "height": 41
        },
        "id": "L3SANfRLodiW",
        "outputId": "227ee571-5395-4143-e338-ebc87841a6a0"
      },
      "execution_count": null,
      "outputs": [
        {
          "output_type": "execute_result",
          "data": {
            "text/plain": [
              "(x**2 + 4*x + 3)**2"
            ],
            "text/latex": "$\\displaystyle \\left(x^{2} + 4 x + 3\\right)^{2}$"
          },
          "metadata": {},
          "execution_count": 13
        }
      ]
    },
    {
      "cell_type": "code",
      "source": [
        "z.factor()"
      ],
      "metadata": {
        "colab": {
          "base_uri": "https://localhost:8080/",
          "height": 39
        },
        "id": "SvgJb5HbojDA",
        "outputId": "9e46aead-4935-4292-f692-d76da97a2c85"
      },
      "execution_count": null,
      "outputs": [
        {
          "output_type": "execute_result",
          "data": {
            "text/plain": [
              "(x + 1)**2*(x + 3)**2"
            ],
            "text/latex": "$\\displaystyle \\left(x + 1\\right)^{2} \\left(x + 3\\right)^{2}$"
          },
          "metadata": {},
          "execution_count": 14
        }
      ]
    },
    {
      "cell_type": "code",
      "source": [
        "z.expand()"
      ],
      "metadata": {
        "colab": {
          "base_uri": "https://localhost:8080/",
          "height": 38
        },
        "id": "ttdn5hWRoppQ",
        "outputId": "2fc515f9-8bd4-4e5c-9d96-c6f04edf144e"
      },
      "execution_count": null,
      "outputs": [
        {
          "output_type": "execute_result",
          "data": {
            "text/plain": [
              "x**4 + 8*x**3 + 22*x**2 + 24*x + 9"
            ],
            "text/latex": "$\\displaystyle x^{4} + 8 x^{3} + 22 x^{2} + 24 x + 9$"
          },
          "metadata": {},
          "execution_count": 15
        }
      ]
    },
    {
      "cell_type": "code",
      "source": [
        "smp.solve(z, x)"
      ],
      "metadata": {
        "colab": {
          "base_uri": "https://localhost:8080/"
        },
        "id": "ZiGQ3yr9ow3j",
        "outputId": "d06a805b-c443-4cb7-9fd2-8e9d89f46bfb"
      },
      "execution_count": null,
      "outputs": [
        {
          "output_type": "execute_result",
          "data": {
            "text/plain": [
              "[-3, -1]"
            ]
          },
          "metadata": {},
          "execution_count": 16
        }
      ]
    },
    {
      "cell_type": "code",
      "source": [
        "smp.solve(x**2+1)"
      ],
      "metadata": {
        "colab": {
          "base_uri": "https://localhost:8080/"
        },
        "id": "Scr7Cq0UqbDI",
        "outputId": "b15b6071-f5a4-409e-fbe5-0cd243352f06"
      },
      "execution_count": null,
      "outputs": [
        {
          "output_type": "execute_result",
          "data": {
            "text/plain": [
              "[-I, I]"
            ]
          },
          "metadata": {},
          "execution_count": 17
        }
      ]
    },
    {
      "cell_type": "code",
      "source": [
        "w = smp.symbols('w', real=True, positive=True)\n",
        "smp.solve(w**2+1)"
      ],
      "metadata": {
        "colab": {
          "base_uri": "https://localhost:8080/"
        },
        "id": "nRK93_aoqiB-",
        "outputId": "930b95e5-aeed-4b1b-c6f0-b2bc6b2d654a"
      },
      "execution_count": null,
      "outputs": [
        {
          "output_type": "execute_result",
          "data": {
            "text/plain": [
              "[]"
            ]
          },
          "metadata": {},
          "execution_count": 22
        }
      ]
    },
    {
      "cell_type": "code",
      "source": [
        "smp.solve(w+4)"
      ],
      "metadata": {
        "colab": {
          "base_uri": "https://localhost:8080/"
        },
        "id": "D0-gj1hBq3HS",
        "outputId": "553d89ca-a0e1-4208-946f-08d7d68e5e65"
      },
      "execution_count": null,
      "outputs": [
        {
          "output_type": "execute_result",
          "data": {
            "text/plain": [
              "[]"
            ]
          },
          "metadata": {},
          "execution_count": 21
        }
      ]
    },
    {
      "cell_type": "code",
      "source": [
        "u, v = smp.symbols('u v')\n",
        "f = u**2+smp.sin(v)\n",
        "f"
      ],
      "metadata": {
        "colab": {
          "base_uri": "https://localhost:8080/",
          "height": 38
        },
        "id": "W7Cm-TKiteSo",
        "outputId": "75ad4622-0dca-470c-a395-45174ae3a61b"
      },
      "execution_count": null,
      "outputs": [
        {
          "output_type": "execute_result",
          "data": {
            "text/plain": [
              "u**2 + sin(v)"
            ],
            "text/latex": "$\\displaystyle u^{2} + \\sin{\\left(v \\right)}$"
          },
          "metadata": {},
          "execution_count": 41
        }
      ]
    },
    {
      "cell_type": "code",
      "source": [
        "u_sol = smp.solve(f, u)\n",
        "u_sol"
      ],
      "metadata": {
        "colab": {
          "base_uri": "https://localhost:8080/"
        },
        "id": "m4kEv0t9t67R",
        "outputId": "3eeb8262-d10c-4edf-e71b-e03802e19260"
      },
      "execution_count": null,
      "outputs": [
        {
          "output_type": "execute_result",
          "data": {
            "text/plain": [
              "[-sqrt(-sin(v)), sqrt(-sin(v))]"
            ]
          },
          "metadata": {},
          "execution_count": 29
        }
      ]
    },
    {
      "cell_type": "code",
      "source": [
        "v_sol = smp.solve(f, v)\n",
        "v_sol"
      ],
      "metadata": {
        "colab": {
          "base_uri": "https://localhost:8080/"
        },
        "id": "QiACSxjJuHqZ",
        "outputId": "d375dc53-4411-4bde-8d25-8ea5752a66df"
      },
      "execution_count": null,
      "outputs": [
        {
          "output_type": "execute_result",
          "data": {
            "text/plain": [
              "[asin(u**2) + pi, -asin(u**2)]"
            ]
          },
          "metadata": {},
          "execution_count": 28
        }
      ]
    },
    {
      "cell_type": "code",
      "source": [
        "expr = u_sol[1] + v_sol[0]\n",
        "expr"
      ],
      "metadata": {
        "colab": {
          "base_uri": "https://localhost:8080/",
          "height": 40
        },
        "id": "GM6ONnUuvG7C",
        "outputId": "4dbd89c8-8b58-476b-9ce3-c7ad8edd6d06"
      },
      "execution_count": null,
      "outputs": [
        {
          "output_type": "execute_result",
          "data": {
            "text/plain": [
              "sqrt(-sin(v)) + asin(u**2) + pi"
            ],
            "text/latex": "$\\displaystyle \\sqrt{- \\sin{\\left(v \\right)}} + \\operatorname{asin}{\\left(u^{2} \\right)} + \\pi$"
          },
          "metadata": {},
          "execution_count": 33
        }
      ]
    },
    {
      "cell_type": "code",
      "source": [
        "expr_f = smp.lambdify([u, v], expr)"
      ],
      "metadata": {
        "id": "DgwDYPjuvdWC"
      },
      "execution_count": null,
      "outputs": []
    },
    {
      "cell_type": "code",
      "source": [
        "expr_f(-1, -1)"
      ],
      "metadata": {
        "colab": {
          "base_uri": "https://localhost:8080/"
        },
        "id": "2_zUOwpOv0lB",
        "outputId": "308f9cc4-d534-45c3-cdfd-ade39e254740"
      },
      "execution_count": null,
      "outputs": [
        {
          "output_type": "execute_result",
          "data": {
            "text/plain": [
              "5.629706256362798"
            ]
          },
          "metadata": {},
          "execution_count": 37
        }
      ]
    },
    {
      "cell_type": "code",
      "source": [
        "u_num = np.linspace(0, -1, 100)\n",
        "v_num = -1\n",
        "plt.plot(u_num, expr_f(u_num, v_num))\n",
        "plt.show()"
      ],
      "metadata": {
        "colab": {
          "base_uri": "https://localhost:8080/",
          "height": 430
        },
        "id": "INZZwLHPwHpD",
        "outputId": "cec42bf3-e22d-4520-8628-125f60faa4d2"
      },
      "execution_count": null,
      "outputs": [
        {
          "output_type": "display_data",
          "data": {
            "text/plain": [
              "<Figure size 640x480 with 1 Axes>"
            ],
            "image/png": "[encoded data removed]"
          },
          "metadata": {}
        }
      ]
    },
    {
      "cell_type": "code",
      "source": [
        "f.subs([(v, smp.pi/2)])"
      ],
      "metadata": {
        "colab": {
          "base_uri": "https://localhost:8080/",
          "height": 38
        },
        "id": "Y0069McOyOd_",
        "outputId": "4abff275-8730-4bb1-ac54-acb075c6e9c1"
      },
      "execution_count": null,
      "outputs": [
        {
          "output_type": "execute_result",
          "data": {
            "text/plain": [
              "u**2 + 1"
            ],
            "text/latex": "$\\displaystyle u^{2} + 1$"
          },
          "metadata": {},
          "execution_count": 46
        }
      ]
    },
    {
      "cell_type": "code",
      "source": [
        "f.subs([(u, 2)])"
      ],
      "metadata": {
        "colab": {
          "base_uri": "https://localhost:8080/",
          "height": 38
        },
        "id": "cJUnOhQ9zOfG",
        "outputId": "7d9429ff-1ce0-44b9-e1d2-73554404ab5d"
      },
      "execution_count": null,
      "outputs": [
        {
          "output_type": "execute_result",
          "data": {
            "text/plain": [
              "sin(v) + 4"
            ],
            "text/latex": "$\\displaystyle \\sin{\\left(v \\right)} + 4$"
          },
          "metadata": {},
          "execution_count": 45
        }
      ]
    },
    {
      "cell_type": "code",
      "source": [
        "f.subs([(v, smp.pi/2), (u, 2)])"
      ],
      "metadata": {
        "colab": {
          "base_uri": "https://localhost:8080/",
          "height": 37
        },
        "id": "jMcluIv8zTXw",
        "outputId": "4d1dcf28-a29f-4df7-d9e7-e3d07835cc83"
      },
      "execution_count": null,
      "outputs": [
        {
          "output_type": "execute_result",
          "data": {
            "text/plain": [
              "5"
            ],
            "text/latex": "$\\displaystyle 5$"
          },
          "metadata": {},
          "execution_count": 47
        }
      ]
    },
    {
      "cell_type": "code",
      "source": [
        "t, h0, v0, g, vp, q = smp.symbols('t h_0 v_0 g v_p q', real=True, positive=True)"
      ],
      "metadata": {
        "id": "WytJVj_22vMo"
      },
      "execution_count": null,
      "outputs": []
    },
    {
      "cell_type": "code",
      "source": [
        "hot = h0 - v0*t - smp.Rational(1, 2) * g * t**2\n",
        "hot"
      ],
      "metadata": {
        "colab": {
          "base_uri": "https://localhost:8080/",
          "height": 54
        },
        "id": "hGOWq9mI3O31",
        "outputId": "952b3cc5-522f-4fc6-df3c-146056d90623"
      },
      "execution_count": null,
      "outputs": [
        {
          "output_type": "execute_result",
          "data": {
            "text/plain": [
              "-g*t**2/2 + h_0 - t*v_0"
            ],
            "text/latex": "$\\displaystyle - \\frac{g t^{2}}{2} + h_{0} - t v_{0}$"
          },
          "metadata": {},
          "execution_count": 50
        }
      ]
    },
    {
      "cell_type": "code",
      "source": [
        "dho_dt = smp.diff(hot, t)\n",
        "dho_dt"
      ],
      "metadata": {
        "colab": {
          "base_uri": "https://localhost:8080/",
          "height": 38
        },
        "id": "ccORSpZ532Mi",
        "outputId": "b280a6c3-7ce2-429e-8309-fa7a5aec447c"
      },
      "execution_count": null,
      "outputs": [
        {
          "output_type": "execute_result",
          "data": {
            "text/plain": [
              "-g*t - v_0"
            ],
            "text/latex": "$\\displaystyle - g t - v_{0}$"
          },
          "metadata": {},
          "execution_count": 59
        }
      ]
    },
    {
      "cell_type": "code",
      "source": [
        "hpt = vp*t + smp.Rational(1, 2) * g * t**2\n",
        "hpt"
      ],
      "metadata": {
        "colab": {
          "base_uri": "https://localhost:8080/",
          "height": 54
        },
        "id": "-ZnKINiM5Qvo",
        "outputId": "83572fbf-2a53-48e8-b07f-028096a7c7b8"
      },
      "execution_count": null,
      "outputs": [
        {
          "output_type": "execute_result",
          "data": {
            "text/plain": [
              "g*t**2/2 + t*v_p"
            ],
            "text/latex": "$\\displaystyle \\frac{g t^{2}}{2} + t v_{p}$"
          },
          "metadata": {},
          "execution_count": 54
        }
      ]
    },
    {
      "cell_type": "code",
      "source": [
        "dhp_dt = smp.diff(hpt, t)\n",
        "dhp_dt"
      ],
      "metadata": {
        "colab": {
          "base_uri": "https://localhost:8080/",
          "height": 38
        },
        "id": "0BFhsHjF5rFQ",
        "outputId": "10a54c68-1ea4-4fe1-a7bc-e61d4847787b"
      },
      "execution_count": null,
      "outputs": [
        {
          "output_type": "execute_result",
          "data": {
            "text/plain": [
              "g*t + v_p"
            ],
            "text/latex": "$\\displaystyle g t + v_{p}$"
          },
          "metadata": {},
          "execution_count": 56
        }
      ]
    },
    {
      "cell_type": "code",
      "source": [
        "eq1 = hot - hpt\n",
        "eq1"
      ],
      "metadata": {
        "colab": {
          "base_uri": "https://localhost:8080/",
          "height": 38
        },
        "id": "n1F9kzqX7ZXK",
        "outputId": "4303af71-ef41-486a-e84f-9f646b55739b"
      },
      "execution_count": null,
      "outputs": [
        {
          "output_type": "execute_result",
          "data": {
            "text/plain": [
              "-g*t**2 + h_0 - t*v_0 - t*v_p"
            ],
            "text/latex": "$\\displaystyle - g t^{2} + h_{0} - t v_{0} - t v_{p}$"
          },
          "metadata": {},
          "execution_count": 57
        }
      ]
    },
    {
      "cell_type": "code",
      "source": [
        "eq2 = dho_dt + dhp_dt\n",
        "eq2"
      ],
      "metadata": {
        "colab": {
          "base_uri": "https://localhost:8080/",
          "height": 38
        },
        "id": "fLzVbij87ncX",
        "outputId": "13f0104d-67d0-4210-a8f1-dbc952e575e7"
      },
      "execution_count": null,
      "outputs": [
        {
          "output_type": "execute_result",
          "data": {
            "text/plain": [
              "-v_0 + v_p"
            ],
            "text/latex": "$\\displaystyle - v_{0} + v_{p}$"
          },
          "metadata": {},
          "execution_count": 60
        }
      ]
    },
    {
      "cell_type": "code",
      "source": [
        "t_collide, v_initfall = smp.solve([eq1, eq2], [t, v0])[0]"
      ],
      "metadata": {
        "id": "ovU_klNn9Sm9"
      },
      "execution_count": null,
      "outputs": []
    },
    {
      "cell_type": "code",
      "source": [
        "t_collide"
      ],
      "metadata": {
        "colab": {
          "base_uri": "https://localhost:8080/",
          "height": 70
        },
        "id": "C23uFtiD9ks_",
        "outputId": "1abed629-4ce2-48df-fa9d-731efc08f1d5"
      },
      "execution_count": null,
      "outputs": [
        {
          "output_type": "execute_result",
          "data": {
            "text/plain": [
              "-v_p/g + sqrt(g*h_0 + v_p**2)/g"
            ],
            "text/latex": "$\\displaystyle - \\frac{v_{p}}{g} + \\frac{\\sqrt{g h_{0} + v_{p}^{2}}}{g}$"
          },
          "metadata": {},
          "execution_count": 64
        }
      ]
    },
    {
      "cell_type": "code",
      "source": [
        "v_initfall"
      ],
      "metadata": {
        "colab": {
          "base_uri": "https://localhost:8080/",
          "height": 38
        },
        "id": "ZY2nGRDC9mo9",
        "outputId": "d46247dd-78bd-4f50-f201-bcdd7f9ffcba"
      },
      "execution_count": null,
      "outputs": [
        {
          "output_type": "execute_result",
          "data": {
            "text/plain": [
              "v_p"
            ],
            "text/latex": "$\\displaystyle v_{p}$"
          },
          "metadata": {},
          "execution_count": 65
        }
      ]
    },
    {
      "cell_type": "code",
      "source": [
        "# this is a change"
      ],
      "metadata": {
        "id": "yrnLR8z8KCQI"
      },
      "execution_count": null,
      "outputs": []
    }
  ]
}