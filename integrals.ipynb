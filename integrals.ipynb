{
  "nbformat": 4,
  "nbformat_minor": 0,
  "metadata": {
    "colab": {
      "provenance": [],
      "include_colab_link": true
    },
    "kernelspec": {
      "name": "python3",
      "display_name": "Python 3"
    },
    "language_info": {
      "name": "python"
    }
  },
  "cells": [
    {
      "cell_type": "markdown",
      "metadata": {
        "id": "view-in-github",
        "colab_type": "text"
      },
      "source": [
        "<a href=\"https://colab.research.google.com/github/Ragnarok540/sympy-tutorial/blob/main/integrals.ipynb\" target=\"_parent\"><img src=\"https://colab.research.google.com/assets/colab-badge.svg\" alt=\"Open In Colab\"/></a>"
      ]
    },
    {
      "cell_type": "code",
      "execution_count": 30,
      "metadata": {
        "id": "IEFHG9HOY--D"
      },
      "outputs": [],
      "source": [
        "import sympy as smp"
      ]
    },
    {
      "cell_type": "code",
      "source": [
        "x, t, a, s = smp.symbols('x, t, a, s')\n",
        "\n",
        "f0 = smp.sin(x)\n",
        "f0"
      ],
      "metadata": {
        "colab": {
          "base_uri": "https://localhost:8080/",
          "height": 38
        },
        "id": "E4EeyHpmcMaN",
        "outputId": "36adf6d4-2138-41b0-e48b-a05c35295c35"
      },
      "execution_count": 31,
      "outputs": [
        {
          "output_type": "execute_result",
          "data": {
            "text/plain": [
              "sin(x)"
            ],
            "text/latex": "$\\displaystyle \\sin{\\left(x \\right)}$"
          },
          "metadata": {},
          "execution_count": 31
        }
      ]
    },
    {
      "cell_type": "code",
      "source": [
        "smp.integrate(f0, x)"
      ],
      "metadata": {
        "colab": {
          "base_uri": "https://localhost:8080/",
          "height": 38
        },
        "id": "BF96ug9jcrsm",
        "outputId": "bde0a8f0-4563-4195-bb18-36c8bbac1ddc"
      },
      "execution_count": 32,
      "outputs": [
        {
          "output_type": "execute_result",
          "data": {
            "text/plain": [
              "-cos(x)"
            ],
            "text/latex": "$\\displaystyle - \\cos{\\left(x \\right)}$"
          },
          "metadata": {},
          "execution_count": 32
        }
      ]
    },
    {
      "cell_type": "code",
      "source": [
        "smp.integrate(f0, (x, 0, smp.pi))"
      ],
      "metadata": {
        "colab": {
          "base_uri": "https://localhost:8080/",
          "height": 37
        },
        "id": "oT_ixtYRdUmx",
        "outputId": "8d84c265-b494-4ab9-f3f9-f6ebbe211fb6"
      },
      "execution_count": 33,
      "outputs": [
        {
          "output_type": "execute_result",
          "data": {
            "text/plain": [
              "2"
            ],
            "text/latex": "$\\displaystyle 2$"
          },
          "metadata": {},
          "execution_count": 33
        }
      ]
    },
    {
      "cell_type": "code",
      "source": [
        "f1 = 1 / x\n",
        "f1"
      ],
      "metadata": {
        "colab": {
          "base_uri": "https://localhost:8080/",
          "height": 51
        },
        "id": "-s9zsz2Vd2h7",
        "outputId": "1702bdf4-5b54-4192-e376-139963ad9521"
      },
      "execution_count": 34,
      "outputs": [
        {
          "output_type": "execute_result",
          "data": {
            "text/plain": [
              "1/x"
            ],
            "text/latex": "$\\displaystyle \\frac{1}{x}$"
          },
          "metadata": {},
          "execution_count": 34
        }
      ]
    },
    {
      "cell_type": "code",
      "source": [
        "smp.integrate(f1, x)"
      ],
      "metadata": {
        "colab": {
          "base_uri": "https://localhost:8080/",
          "height": 38
        },
        "id": "Be06yrmjd7pT",
        "outputId": "c84650d5-1ad8-4511-fe58-f290d16ffd87"
      },
      "execution_count": 35,
      "outputs": [
        {
          "output_type": "execute_result",
          "data": {
            "text/plain": [
              "log(x)"
            ],
            "text/latex": "$\\displaystyle \\log{\\left(x \\right)}$"
          },
          "metadata": {},
          "execution_count": 35
        }
      ]
    },
    {
      "cell_type": "code",
      "source": [
        "smp.integrate(f1, (x, -1, 2))"
      ],
      "metadata": {
        "colab": {
          "base_uri": "https://localhost:8080/",
          "height": 37
        },
        "id": "IuWd3veRd_pV",
        "outputId": "70ccc996-a34b-485d-c609-2a49633f3160"
      },
      "execution_count": 36,
      "outputs": [
        {
          "output_type": "execute_result",
          "data": {
            "text/plain": [
              "nan"
            ],
            "text/latex": "$\\displaystyle \\text{NaN}$"
          },
          "metadata": {},
          "execution_count": 36
        }
      ]
    },
    {
      "cell_type": "code",
      "source": [
        "f2 = smp.sqrt(1 + x**2)\n",
        "f2"
      ],
      "metadata": {
        "colab": {
          "base_uri": "https://localhost:8080/",
          "height": 40
        },
        "id": "p1GYlQlgeexr",
        "outputId": "794218db-2b0a-4145-d0e8-329ecee3ddbb"
      },
      "execution_count": 37,
      "outputs": [
        {
          "output_type": "execute_result",
          "data": {
            "text/plain": [
              "sqrt(x**2 + 1)"
            ],
            "text/latex": "$\\displaystyle \\sqrt{x^{2} + 1}$"
          },
          "metadata": {},
          "execution_count": 37
        }
      ]
    },
    {
      "cell_type": "code",
      "source": [
        "smp.integrate(f2, x)"
      ],
      "metadata": {
        "colab": {
          "base_uri": "https://localhost:8080/",
          "height": 56
        },
        "id": "34YOhAKIewYM",
        "outputId": "c8bd41d8-aac0-4ada-caef-c6009d7fe8c3"
      },
      "execution_count": 38,
      "outputs": [
        {
          "output_type": "execute_result",
          "data": {
            "text/plain": [
              "x*sqrt(x**2 + 1)/2 + asinh(x)/2"
            ],
            "text/latex": "$\\displaystyle \\frac{x \\sqrt{x^{2} + 1}}{2} + \\frac{\\operatorname{asinh}{\\left(x \\right)}}{2}$"
          },
          "metadata": {},
          "execution_count": 38
        }
      ]
    },
    {
      "cell_type": "code",
      "source": [
        "i = smp.integrate(f2, (x, 0, 1))\n",
        "i"
      ],
      "metadata": {
        "colab": {
          "base_uri": "https://localhost:8080/",
          "height": 57
        },
        "id": "Ofe673ulfYi0",
        "outputId": "4a6ee068-8a79-44a6-d75c-6559a4ad6bb3"
      },
      "execution_count": 39,
      "outputs": [
        {
          "output_type": "execute_result",
          "data": {
            "text/plain": [
              "log(1 + sqrt(2))/2 + sqrt(2)/2"
            ],
            "text/latex": "$\\displaystyle \\frac{\\log{\\left(1 + \\sqrt{2} \\right)}}{2} + \\frac{\\sqrt{2}}{2}$"
          },
          "metadata": {},
          "execution_count": 39
        }
      ]
    },
    {
      "cell_type": "code",
      "source": [
        "smp.N(i)"
      ],
      "metadata": {
        "colab": {
          "base_uri": "https://localhost:8080/",
          "height": 37
        },
        "id": "ZERorUSce_fc",
        "outputId": "9ab00091-68a3-4eb6-dadd-27468762df87"
      },
      "execution_count": 40,
      "outputs": [
        {
          "output_type": "execute_result",
          "data": {
            "text/plain": [
              "1.14779357469632"
            ],
            "text/latex": "$\\displaystyle 1.14779357469632$"
          },
          "metadata": {},
          "execution_count": 40
        }
      ]
    },
    {
      "cell_type": "code",
      "source": [
        "f3 = smp.sin(x) / x\n",
        "f3"
      ],
      "metadata": {
        "colab": {
          "base_uri": "https://localhost:8080/",
          "height": 53
        },
        "id": "QJ0i-VlT5Mr_",
        "outputId": "b8a6ccaa-33c0-415f-bdeb-31b2a3d2186e"
      },
      "execution_count": 41,
      "outputs": [
        {
          "output_type": "execute_result",
          "data": {
            "text/plain": [
              "sin(x)/x"
            ],
            "text/latex": "$\\displaystyle \\frac{\\sin{\\left(x \\right)}}{x}$"
          },
          "metadata": {},
          "execution_count": 41
        }
      ]
    },
    {
      "cell_type": "code",
      "source": [
        "smp.integrate(f3, x)"
      ],
      "metadata": {
        "colab": {
          "base_uri": "https://localhost:8080/",
          "height": 38
        },
        "outputId": "283f423d-c1ef-4262-ce93-b0cdfdbbd317",
        "id": "nwAfbJ8G5wll"
      },
      "execution_count": 42,
      "outputs": [
        {
          "output_type": "execute_result",
          "data": {
            "text/plain": [
              "Si(x)"
            ],
            "text/latex": "$\\displaystyle \\operatorname{Si}{\\left(x \\right)}$"
          },
          "metadata": {},
          "execution_count": 42
        }
      ]
    },
    {
      "cell_type": "code",
      "source": [
        "f4 = smp.cos(a * t)\n",
        "f4"
      ],
      "metadata": {
        "id": "MNKv6r1upp-V",
        "outputId": "a6afdc27-32da-4ca2-9602-16dc59cfa746",
        "colab": {
          "base_uri": "https://localhost:8080/",
          "height": 38
        }
      },
      "execution_count": 43,
      "outputs": [
        {
          "output_type": "execute_result",
          "data": {
            "text/plain": [
              "cos(a*t)"
            ],
            "text/latex": "$\\displaystyle \\cos{\\left(a t \\right)}$"
          },
          "metadata": {},
          "execution_count": 43
        }
      ]
    },
    {
      "cell_type": "code",
      "source": [
        "smp.integrate(f4, t)"
      ],
      "metadata": {
        "id": "HHfpgzZFp1XM",
        "outputId": "09e0fd80-b338-4322-afe2-2917ccb534c7",
        "colab": {
          "base_uri": "https://localhost:8080/",
          "height": 68
        }
      },
      "execution_count": 44,
      "outputs": [
        {
          "output_type": "execute_result",
          "data": {
            "text/plain": [
              "Piecewise((sin(a*t)/a, Ne(a, 0)), (t, True))"
            ],
            "text/latex": "$\\displaystyle \\begin{cases} \\frac{\\sin{\\left(a t \\right)}}{a} & \\text{for}\\: a \\neq 0 \\\\t & \\text{otherwise} \\end{cases}$"
          },
          "metadata": {},
          "execution_count": 44
        }
      ]
    },
    {
      "cell_type": "code",
      "source": [
        "f5 = smp.exp(-s * t)\n",
        "f5"
      ],
      "metadata": {
        "id": "ccoonalf0mUl",
        "outputId": "c54707c4-98e2-45ee-c9a0-7bf96d5106b4",
        "colab": {
          "base_uri": "https://localhost:8080/",
          "height": 38
        }
      },
      "execution_count": 45,
      "outputs": [
        {
          "output_type": "execute_result",
          "data": {
            "text/plain": [
              "exp(-s*t)"
            ],
            "text/latex": "$\\displaystyle e^{- s t}$"
          },
          "metadata": {},
          "execution_count": 45
        }
      ]
    },
    {
      "cell_type": "code",
      "source": [
        "i = smp.integrate(f5, (t, 0, smp.oo))\n",
        "i"
      ],
      "metadata": {
        "colab": {
          "base_uri": "https://localhost:8080/",
          "height": 83
        },
        "outputId": "984a0651-7ca9-45e0-c3be-913a370cccfb",
        "id": "NMP7OOoV1B8O"
      },
      "execution_count": 46,
      "outputs": [
        {
          "output_type": "execute_result",
          "data": {
            "text/plain": [
              "Piecewise((1/s, Abs(arg(s)) < pi/2), (Integral(exp(-s*t), (t, 0, oo)), True))"
            ],
            "text/latex": "$\\displaystyle \\begin{cases} \\frac{1}{s} & \\text{for}\\: \\left|{\\arg{\\left(s \\right)}}\\right| < \\frac{\\pi}{2} \\\\\\int\\limits_{0}^{\\infty} e^{- s t}\\, dt & \\text{otherwise} \\end{cases}$"
          },
          "metadata": {},
          "execution_count": 46
        }
      ]
    }
  ]
}