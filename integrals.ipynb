{
  "nbformat": 4,
  "nbformat_minor": 0,
  "metadata": {
    "colab": {
      "provenance": [],
      "include_colab_link": true
    },
    "kernelspec": {
      "name": "python3",
      "display_name": "Python 3"
    },
    "language_info": {
      "name": "python"
    }
  },
  "cells": [
    {
      "cell_type": "markdown",
      "metadata": {
        "id": "view-in-github",
        "colab_type": "text"
      },
      "source": [
        "<a href=\"https://colab.research.google.com/github/Ragnarok540/sympy-tutorial/blob/main/integrals.ipynb\" target=\"_parent\"><img src=\"https://colab.research.google.com/assets/colab-badge.svg\" alt=\"Open In Colab\"/></a>"
      ]
    },
    {
      "cell_type": "code",
      "execution_count": 1,
      "metadata": {
        "id": "IEFHG9HOY--D"
      },
      "outputs": [],
      "source": [
        "import sympy as smp"
      ]
    },
    {
      "cell_type": "code",
      "source": [
        "x, t, a = smp.symbols('x, t, a')\n",
        "\n",
        "f0 = smp.sin(x)\n",
        "f0"
      ],
      "metadata": {
        "colab": {
          "base_uri": "https://localhost:8080/",
          "height": 39
        },
        "id": "E4EeyHpmcMaN",
        "outputId": "49d45978-d540-4eec-cf23-edddb399ea05"
      },
      "execution_count": 14,
      "outputs": [
        {
          "output_type": "execute_result",
          "data": {
            "text/plain": [
              "sin(x)"
            ],
            "text/latex": "$\\displaystyle \\sin{\\left(x \\right)}$"
          },
          "metadata": {},
          "execution_count": 14
        }
      ]
    },
    {
      "cell_type": "code",
      "source": [
        "smp.integrate(f0, x)"
      ],
      "metadata": {
        "colab": {
          "base_uri": "https://localhost:8080/",
          "height": 39
        },
        "id": "BF96ug9jcrsm",
        "outputId": "ada100e9-fed9-4cf5-8f93-1c4b2032e4b3"
      },
      "execution_count": 3,
      "outputs": [
        {
          "output_type": "execute_result",
          "data": {
            "text/plain": [
              "-cos(x)"
            ],
            "text/latex": "$\\displaystyle - \\cos{\\left(x \\right)}$"
          },
          "metadata": {},
          "execution_count": 3
        }
      ]
    },
    {
      "cell_type": "code",
      "source": [
        "smp.integrate(f0, (x, 0, smp.pi))"
      ],
      "metadata": {
        "colab": {
          "base_uri": "https://localhost:8080/",
          "height": 37
        },
        "id": "oT_ixtYRdUmx",
        "outputId": "4efb3498-881c-420a-aae7-0cc4f02c549f"
      },
      "execution_count": 4,
      "outputs": [
        {
          "output_type": "execute_result",
          "data": {
            "text/plain": [
              "2"
            ],
            "text/latex": "$\\displaystyle 2$"
          },
          "metadata": {},
          "execution_count": 4
        }
      ]
    },
    {
      "cell_type": "code",
      "source": [
        "f1 = 1 / x\n",
        "f1"
      ],
      "metadata": {
        "colab": {
          "base_uri": "https://localhost:8080/",
          "height": 51
        },
        "id": "-s9zsz2Vd2h7",
        "outputId": "bd3bd1c5-ff88-41f1-c368-53eb4de56f20"
      },
      "execution_count": 5,
      "outputs": [
        {
          "output_type": "execute_result",
          "data": {
            "text/plain": [
              "1/x"
            ],
            "text/latex": "$\\displaystyle \\frac{1}{x}$"
          },
          "metadata": {},
          "execution_count": 5
        }
      ]
    },
    {
      "cell_type": "code",
      "source": [
        "smp.integrate(f1, x)"
      ],
      "metadata": {
        "colab": {
          "base_uri": "https://localhost:8080/",
          "height": 39
        },
        "id": "Be06yrmjd7pT",
        "outputId": "625106e7-6f70-408d-c5ec-4952c88c047b"
      },
      "execution_count": 6,
      "outputs": [
        {
          "output_type": "execute_result",
          "data": {
            "text/plain": [
              "log(x)"
            ],
            "text/latex": "$\\displaystyle \\log{\\left(x \\right)}$"
          },
          "metadata": {},
          "execution_count": 6
        }
      ]
    },
    {
      "cell_type": "code",
      "source": [
        "smp.integrate(f1, (x, -1, 2))"
      ],
      "metadata": {
        "colab": {
          "base_uri": "https://localhost:8080/",
          "height": 37
        },
        "id": "IuWd3veRd_pV",
        "outputId": "dbead323-2bbe-421d-ac13-b544b0cf1cb7"
      },
      "execution_count": 7,
      "outputs": [
        {
          "output_type": "execute_result",
          "data": {
            "text/plain": [
              "nan"
            ],
            "text/latex": "$\\displaystyle \\text{NaN}$"
          },
          "metadata": {},
          "execution_count": 7
        }
      ]
    },
    {
      "cell_type": "code",
      "source": [
        "f2 = smp.sqrt(1 + x**2)\n",
        "f2"
      ],
      "metadata": {
        "colab": {
          "base_uri": "https://localhost:8080/",
          "height": 40
        },
        "id": "p1GYlQlgeexr",
        "outputId": "c9087fcf-f04d-4769-9903-5fa2d3ec8767"
      },
      "execution_count": 8,
      "outputs": [
        {
          "output_type": "execute_result",
          "data": {
            "text/plain": [
              "sqrt(x**2 + 1)"
            ],
            "text/latex": "$\\displaystyle \\sqrt{x^{2} + 1}$"
          },
          "metadata": {},
          "execution_count": 8
        }
      ]
    },
    {
      "cell_type": "code",
      "source": [
        "smp.integrate(f2, x)"
      ],
      "metadata": {
        "colab": {
          "base_uri": "https://localhost:8080/",
          "height": 56
        },
        "id": "34YOhAKIewYM",
        "outputId": "a669d316-638d-4fd8-a221-2ebef154ffd9"
      },
      "execution_count": 9,
      "outputs": [
        {
          "output_type": "execute_result",
          "data": {
            "text/plain": [
              "x*sqrt(x**2 + 1)/2 + asinh(x)/2"
            ],
            "text/latex": "$\\displaystyle \\frac{x \\sqrt{x^{2} + 1}}{2} + \\frac{\\operatorname{asinh}{\\left(x \\right)}}{2}$"
          },
          "metadata": {},
          "execution_count": 9
        }
      ]
    },
    {
      "cell_type": "code",
      "source": [
        "i = smp.integrate(f2, (x, 0, 1))\n",
        "i"
      ],
      "metadata": {
        "colab": {
          "base_uri": "https://localhost:8080/",
          "height": 57
        },
        "id": "Ofe673ulfYi0",
        "outputId": "196a676a-52f2-4e84-be26-b7840b1e9dd0"
      },
      "execution_count": 10,
      "outputs": [
        {
          "output_type": "execute_result",
          "data": {
            "text/plain": [
              "log(1 + sqrt(2))/2 + sqrt(2)/2"
            ],
            "text/latex": "$\\displaystyle \\frac{\\log{\\left(1 + \\sqrt{2} \\right)}}{2} + \\frac{\\sqrt{2}}{2}$"
          },
          "metadata": {},
          "execution_count": 10
        }
      ]
    },
    {
      "cell_type": "code",
      "source": [
        "smp.N(i)"
      ],
      "metadata": {
        "colab": {
          "base_uri": "https://localhost:8080/",
          "height": 37
        },
        "id": "ZERorUSce_fc",
        "outputId": "72722c76-b6d4-4b09-ee99-b97d28f0ebb7"
      },
      "execution_count": 11,
      "outputs": [
        {
          "output_type": "execute_result",
          "data": {
            "text/plain": [
              "1.14779357469632"
            ],
            "text/latex": "$\\displaystyle 1.14779357469632$"
          },
          "metadata": {},
          "execution_count": 11
        }
      ]
    },
    {
      "cell_type": "code",
      "source": [
        "f3 = smp.sin(x) / x\n",
        "f3"
      ],
      "metadata": {
        "colab": {
          "base_uri": "https://localhost:8080/",
          "height": 53
        },
        "id": "QJ0i-VlT5Mr_",
        "outputId": "a65e3760-866e-40e7-e058-b531e8878d9b"
      },
      "execution_count": 12,
      "outputs": [
        {
          "output_type": "execute_result",
          "data": {
            "text/plain": [
              "sin(x)/x"
            ],
            "text/latex": "$\\displaystyle \\frac{\\sin{\\left(x \\right)}}{x}$"
          },
          "metadata": {},
          "execution_count": 12
        }
      ]
    },
    {
      "cell_type": "code",
      "source": [
        "smp.integrate(f3, x)"
      ],
      "metadata": {
        "colab": {
          "base_uri": "https://localhost:8080/",
          "height": 39
        },
        "outputId": "583ca3b8-b448-4c78-98f5-358c0a1a970b",
        "id": "nwAfbJ8G5wll"
      },
      "execution_count": 13,
      "outputs": [
        {
          "output_type": "execute_result",
          "data": {
            "text/plain": [
              "Si(x)"
            ],
            "text/latex": "$\\displaystyle \\operatorname{Si}{\\left(x \\right)}$"
          },
          "metadata": {},
          "execution_count": 13
        }
      ]
    },
    {
      "cell_type": "code",
      "source": [
        "f4 = smp.cos(a * t)\n",
        "f4"
      ],
      "metadata": {
        "id": "MNKv6r1upp-V",
        "outputId": "189e5542-5559-4b5e-b281-62c1dd477763",
        "colab": {
          "base_uri": "https://localhost:8080/",
          "height": 39
        }
      },
      "execution_count": 15,
      "outputs": [
        {
          "output_type": "execute_result",
          "data": {
            "text/plain": [
              "cos(a*t)"
            ],
            "text/latex": "$\\displaystyle \\cos{\\left(a t \\right)}$"
          },
          "metadata": {},
          "execution_count": 15
        }
      ]
    },
    {
      "cell_type": "code",
      "source": [
        "smp.integrate(f4, t)"
      ],
      "metadata": {
        "id": "HHfpgzZFp1XM",
        "outputId": "2c621261-b8f5-4b64-d809-683a46700b49",
        "colab": {
          "base_uri": "https://localhost:8080/",
          "height": 68
        }
      },
      "execution_count": 16,
      "outputs": [
        {
          "output_type": "execute_result",
          "data": {
            "text/plain": [
              "Piecewise((sin(a*t)/a, Ne(a, 0)), (t, True))"
            ],
            "text/latex": "$\\displaystyle \\begin{cases} \\frac{\\sin{\\left(a t \\right)}}{a} & \\text{for}\\: a \\neq 0 \\\\t & \\text{otherwise} \\end{cases}$"
          },
          "metadata": {},
          "execution_count": 16
        }
      ]
    }
  ]
}