{
  "nbformat": 4,
  "nbformat_minor": 0,
  "metadata": {
    "colab": {
      "provenance": [],
      "authorship_tag": "ABX9TyMmjtM7QnsWXu3/VCtCcLDq",
      "include_colab_link": true
    },
    "kernelspec": {
      "name": "python3",
      "display_name": "Python 3"
    },
    "language_info": {
      "name": "python"
    }
  },
  "cells": [
    {
      "cell_type": "markdown",
      "metadata": {
        "id": "view-in-github",
        "colab_type": "text"
      },
      "source": [
        "<a href=\"https://colab.research.google.com/github/Ragnarok540/sympy-tutorial/blob/main/integrals.ipynb\" target=\"_parent\"><img src=\"https://colab.research.google.com/assets/colab-badge.svg\" alt=\"Open In Colab\"/></a>"
      ]
    },
    {
      "cell_type": "code",
      "execution_count": 10,
      "metadata": {
        "id": "IEFHG9HOY--D"
      },
      "outputs": [],
      "source": [
        "import sympy as smp"
      ]
    },
    {
      "cell_type": "code",
      "source": [
        "x = smp.symbols('x')\n",
        "\n",
        "f0 = smp.sin(x)\n",
        "f0"
      ],
      "metadata": {
        "colab": {
          "base_uri": "https://localhost:8080/",
          "height": 38
        },
        "id": "E4EeyHpmcMaN",
        "outputId": "4ca71e3f-e653-4fba-dfd4-6a9e185115ad"
      },
      "execution_count": 11,
      "outputs": [
        {
          "output_type": "execute_result",
          "data": {
            "text/plain": [
              "sin(x)"
            ],
            "text/latex": "$\\displaystyle \\sin{\\left(x \\right)}$"
          },
          "metadata": {},
          "execution_count": 11
        }
      ]
    },
    {
      "cell_type": "code",
      "source": [
        "smp.integrate(f0, x)"
      ],
      "metadata": {
        "colab": {
          "base_uri": "https://localhost:8080/",
          "height": 38
        },
        "id": "BF96ug9jcrsm",
        "outputId": "98ca16d2-124d-4992-ec22-7c5bc6701740"
      },
      "execution_count": 12,
      "outputs": [
        {
          "output_type": "execute_result",
          "data": {
            "text/plain": [
              "-cos(x)"
            ],
            "text/latex": "$\\displaystyle - \\cos{\\left(x \\right)}$"
          },
          "metadata": {},
          "execution_count": 12
        }
      ]
    },
    {
      "cell_type": "code",
      "source": [
        "smp.integrate(f0, (x, 0, smp.pi))"
      ],
      "metadata": {
        "colab": {
          "base_uri": "https://localhost:8080/",
          "height": 37
        },
        "id": "oT_ixtYRdUmx",
        "outputId": "e9a7074c-58a2-4c41-ae38-4eeb68a238d6"
      },
      "execution_count": 13,
      "outputs": [
        {
          "output_type": "execute_result",
          "data": {
            "text/plain": [
              "2"
            ],
            "text/latex": "$\\displaystyle 2$"
          },
          "metadata": {},
          "execution_count": 13
        }
      ]
    },
    {
      "cell_type": "code",
      "source": [
        "f1 = 1 / x\n",
        "f1"
      ],
      "metadata": {
        "colab": {
          "base_uri": "https://localhost:8080/",
          "height": 51
        },
        "id": "-s9zsz2Vd2h7",
        "outputId": "020643e3-ebda-48f5-e9e2-b3e9d327fdee"
      },
      "execution_count": 14,
      "outputs": [
        {
          "output_type": "execute_result",
          "data": {
            "text/plain": [
              "1/x"
            ],
            "text/latex": "$\\displaystyle \\frac{1}{x}$"
          },
          "metadata": {},
          "execution_count": 14
        }
      ]
    },
    {
      "cell_type": "code",
      "source": [
        "smp.integrate(f1, x)"
      ],
      "metadata": {
        "colab": {
          "base_uri": "https://localhost:8080/",
          "height": 38
        },
        "id": "Be06yrmjd7pT",
        "outputId": "9a7fd2ec-82b8-446f-de56-61c150262022"
      },
      "execution_count": 15,
      "outputs": [
        {
          "output_type": "execute_result",
          "data": {
            "text/plain": [
              "log(x)"
            ],
            "text/latex": "$\\displaystyle \\log{\\left(x \\right)}$"
          },
          "metadata": {},
          "execution_count": 15
        }
      ]
    },
    {
      "cell_type": "code",
      "source": [
        "smp.integrate(f1, (x, -1, 2))"
      ],
      "metadata": {
        "colab": {
          "base_uri": "https://localhost:8080/",
          "height": 37
        },
        "id": "IuWd3veRd_pV",
        "outputId": "d534e7a3-ec1d-4388-90aa-92a8f4d8d1ea"
      },
      "execution_count": 16,
      "outputs": [
        {
          "output_type": "execute_result",
          "data": {
            "text/plain": [
              "nan"
            ],
            "text/latex": "$\\displaystyle \\text{NaN}$"
          },
          "metadata": {},
          "execution_count": 16
        }
      ]
    },
    {
      "cell_type": "code",
      "source": [
        "f2 = smp.sqrt(1 + x**2)\n",
        "f2"
      ],
      "metadata": {
        "colab": {
          "base_uri": "https://localhost:8080/",
          "height": 40
        },
        "id": "p1GYlQlgeexr",
        "outputId": "3a814c45-ca4a-4f87-be50-a0bccf994d7e"
      },
      "execution_count": 17,
      "outputs": [
        {
          "output_type": "execute_result",
          "data": {
            "text/plain": [
              "sqrt(x**2 + 1)"
            ],
            "text/latex": "$\\displaystyle \\sqrt{x^{2} + 1}$"
          },
          "metadata": {},
          "execution_count": 17
        }
      ]
    },
    {
      "cell_type": "code",
      "source": [
        "smp.integrate(f2, x)"
      ],
      "metadata": {
        "colab": {
          "base_uri": "https://localhost:8080/",
          "height": 56
        },
        "id": "34YOhAKIewYM",
        "outputId": "aace1f0b-f35d-412e-f4eb-3ebfb56105d1"
      },
      "execution_count": 18,
      "outputs": [
        {
          "output_type": "execute_result",
          "data": {
            "text/plain": [
              "x*sqrt(x**2 + 1)/2 + asinh(x)/2"
            ],
            "text/latex": "$\\displaystyle \\frac{x \\sqrt{x^{2} + 1}}{2} + \\frac{\\operatorname{asinh}{\\left(x \\right)}}{2}$"
          },
          "metadata": {},
          "execution_count": 18
        }
      ]
    },
    {
      "cell_type": "code",
      "source": [
        "i = smp.integrate(f2, (x, 0, 1))\n",
        "i"
      ],
      "metadata": {
        "colab": {
          "base_uri": "https://localhost:8080/",
          "height": 57
        },
        "id": "Ofe673ulfYi0",
        "outputId": "4c6b11bd-96aa-42c1-c1b9-f27cb264f6dc"
      },
      "execution_count": 19,
      "outputs": [
        {
          "output_type": "execute_result",
          "data": {
            "text/plain": [
              "log(1 + sqrt(2))/2 + sqrt(2)/2"
            ],
            "text/latex": "$\\displaystyle \\frac{\\log{\\left(1 + \\sqrt{2} \\right)}}{2} + \\frac{\\sqrt{2}}{2}$"
          },
          "metadata": {},
          "execution_count": 19
        }
      ]
    },
    {
      "cell_type": "code",
      "source": [
        "smp.N(i)"
      ],
      "metadata": {
        "colab": {
          "base_uri": "https://localhost:8080/",
          "height": 37
        },
        "id": "ZERorUSce_fc",
        "outputId": "64f68c62-9da8-4340-8eba-f02cb33f63dd"
      },
      "execution_count": 20,
      "outputs": [
        {
          "output_type": "execute_result",
          "data": {
            "text/plain": [
              "1.14779357469632"
            ],
            "text/latex": "$\\displaystyle 1.14779357469632$"
          },
          "metadata": {},
          "execution_count": 20
        }
      ]
    },
    {
      "cell_type": "code",
      "source": [
        "f3 = smp.sin(x) / x\n",
        "f3"
      ],
      "metadata": {
        "colab": {
          "base_uri": "https://localhost:8080/",
          "height": 53
        },
        "id": "QJ0i-VlT5Mr_",
        "outputId": "28699521-dac1-4431-a2d3-dbbf136251f0"
      },
      "execution_count": 21,
      "outputs": [
        {
          "output_type": "execute_result",
          "data": {
            "text/plain": [
              "sin(x)/x"
            ],
            "text/latex": "$\\displaystyle \\frac{\\sin{\\left(x \\right)}}{x}$"
          },
          "metadata": {},
          "execution_count": 21
        }
      ]
    },
    {
      "cell_type": "code",
      "source": [
        "smp.integrate(f3, x)"
      ],
      "metadata": {
        "colab": {
          "base_uri": "https://localhost:8080/",
          "height": 38
        },
        "outputId": "18bdf1a7-0905-47cc-db72-3c0ec57be822",
        "id": "nwAfbJ8G5wll"
      },
      "execution_count": 22,
      "outputs": [
        {
          "output_type": "execute_result",
          "data": {
            "text/plain": [
              "Si(x)"
            ],
            "text/latex": "$\\displaystyle \\operatorname{Si}{\\left(x \\right)}$"
          },
          "metadata": {},
          "execution_count": 22
        }
      ]
    }
  ]
}