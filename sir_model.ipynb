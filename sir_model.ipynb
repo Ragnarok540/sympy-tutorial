{
  "nbformat": 4,
  "nbformat_minor": 0,
  "metadata": {
    "colab": {
      "provenance": [],
      "authorship_tag": "ABX9TyMaCXZPBa6xQsjZLAt3OVyB",
      "include_colab_link": true
    },
    "kernelspec": {
      "name": "python3",
      "display_name": "Python 3"
    },
    "language_info": {
      "name": "python"
    }
  },
  "cells": [
    {
      "cell_type": "markdown",
      "metadata": {
        "id": "view-in-github",
        "colab_type": "text"
      },
      "source": [
        "<a href=\"https://colab.research.google.com/github/Ragnarok540/sympy-tutorial/blob/main/sir_model.ipynb\" target=\"_parent\"><img src=\"https://colab.research.google.com/assets/colab-badge.svg\" alt=\"Open In Colab\"/></a>"
      ]
    },
    {
      "cell_type": "code",
      "execution_count": null,
      "metadata": {
        "id": "GNjmPhtt6O5N"
      },
      "outputs": [],
      "source": [
        "# https://www.youtube.com/watch?v=zpYMiJd3pqg\n",
        "\n",
        "import sympy as smp\n",
        "import numpy as np\n",
        "import matplotlib.pyplot as plt\n",
        "from scipy.integrate import odeint"
      ]
    },
    {
      "cell_type": "code",
      "source": [
        "s, i, r, beta, gamma, n  = smp.symbols('s i r beta gamma n')"
      ],
      "metadata": {
        "id": "W96aUM6-60ut"
      },
      "execution_count": null,
      "outputs": []
    },
    {
      "cell_type": "code",
      "source": [
        "ds_dt = - (beta / n) * s * i\n",
        "ds_dt"
      ],
      "metadata": {
        "colab": {
          "base_uri": "https://localhost:8080/",
          "height": 52
        },
        "id": "EXXg6Y_Z7t3v",
        "outputId": "0a72d5bb-0a0e-4394-a2ef-838bef933235"
      },
      "execution_count": null,
      "outputs": [
        {
          "output_type": "execute_result",
          "data": {
            "text/plain": [
              "-beta*i*s/n"
            ],
            "text/latex": "$\\displaystyle - \\frac{\\beta i s}{n}$"
          },
          "metadata": {},
          "execution_count": 4
        }
      ]
    },
    {
      "cell_type": "code",
      "source": [
        "di_dt = (beta / n) * s * i - gamma * i\n",
        "di_dt"
      ],
      "metadata": {
        "colab": {
          "base_uri": "https://localhost:8080/",
          "height": 52
        },
        "id": "dJB6EO5b8Z6F",
        "outputId": "9e1e56e8-3d09-47fd-8158-9283576436c9"
      },
      "execution_count": null,
      "outputs": [
        {
          "output_type": "execute_result",
          "data": {
            "text/plain": [
              "beta*i*s/n - gamma*i"
            ],
            "text/latex": "$\\displaystyle \\frac{\\beta i s}{n} - \\gamma i$"
          },
          "metadata": {},
          "execution_count": 6
        }
      ]
    },
    {
      "cell_type": "code",
      "source": [
        "dr_dt = gamma * i\n",
        "dr_dt"
      ],
      "metadata": {
        "colab": {
          "base_uri": "https://localhost:8080/",
          "height": 38
        },
        "id": "O8ZCKoUb8xub",
        "outputId": "b81716d8-74b1-4a48-f383-824f737a43ae"
      },
      "execution_count": null,
      "outputs": [
        {
          "output_type": "execute_result",
          "data": {
            "text/plain": [
              "gamma*i"
            ],
            "text/latex": "$\\displaystyle \\gamma i$"
          },
          "metadata": {},
          "execution_count": 7
        }
      ]
    },
    {
      "cell_type": "code",
      "source": [
        "fun_s = ds_dt.subs([(beta, 0.39), (n, 1.1e7)])\n",
        "fun_i = di_dt.subs([(beta, 0.39), (n, 1.1e7), (gamma, 1 / 10)])\n",
        "fun_r = dr_dt.subs([(gamma, 1 / 10)])\n",
        "\n",
        "[fun_s, fun_i, fun_r]"
      ],
      "metadata": {
        "colab": {
          "base_uri": "https://localhost:8080/"
        },
        "id": "3SB8fIV-9AmQ",
        "outputId": "3eae84cb-48a2-4572-a1cd-ba535a120197"
      },
      "execution_count": null,
      "outputs": [
        {
          "output_type": "execute_result",
          "data": {
            "text/plain": [
              "[-3.54545454545455e-8*i*s, 3.54545454545455e-8*i*s - 0.1*i, 0.1*i]"
            ]
          },
          "metadata": {},
          "execution_count": 10
        }
      ]
    },
    {
      "cell_type": "code",
      "source": [
        "nfun_s = smp.lambdify([i, s], fun_s)\n",
        "nfun_i = smp.lambdify([i, s], fun_i)\n",
        "nfun_r = smp.lambdify([i, s], fun_r)\n",
        "\n",
        "def func(a, t):\n",
        "  s = a[0]\n",
        "  i = a[1]\n",
        "  r = a[2]\n",
        "  return [nfun_s(i, s), nfun_i(i, s), nfun_r(i, s)]\n",
        "\n",
        "t = np.arange(0, 100, 1)\n",
        "s0 = 1.1e7 - 574\n",
        "i0 = 574\n",
        "r0 = 0\n",
        "\n",
        "sol = odeint(func, y0=[s0, i0, r0], t=t)"
      ],
      "metadata": {
        "id": "IW3qT8qK-rcG"
      },
      "execution_count": null,
      "outputs": []
    },
    {
      "cell_type": "code",
      "source": [
        "sol_s = sol.T[0]\n",
        "sol_i = sol.T[1]\n",
        "sol_r = sol.T[2]\n",
        "\n",
        "plt.plot(t, sol_s)\n",
        "plt.plot(t, sol_i)\n",
        "plt.plot(t, sol_r)\n",
        "plt.grid()"
      ],
      "metadata": {
        "colab": {
          "base_uri": "https://localhost:8080/",
          "height": 445
        },
        "id": "5gEat2qk_ufg",
        "outputId": "603a969a-0871-4bc5-f232-e16d037a7977"
      },
      "execution_count": null,
      "outputs": [
        {
          "output_type": "display_data",
          "data": {
            "text/plain": [
              "<Figure size 640x480 with 1 Axes>"
            ],
            "image/png": "[encoded data removed]"
          },
          "metadata": {}
        }
      ]
    }
  ]
}