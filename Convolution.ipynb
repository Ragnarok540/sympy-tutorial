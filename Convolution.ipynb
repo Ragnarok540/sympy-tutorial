{
  "nbformat": 4,
  "nbformat_minor": 0,
  "metadata": {
    "colab": {
      "provenance": [],
      "authorship_tag": "ABX9TyOUvTYwnMiS7usu5fP0dXr9",
      "include_colab_link": true
    },
    "kernelspec": {
      "name": "python3",
      "display_name": "Python 3"
    },
    "language_info": {
      "name": "python"
    }
  },
  "cells": [
    {
      "cell_type": "markdown",
      "metadata": {
        "id": "view-in-github",
        "colab_type": "text"
      },
      "source": [
        "<a href=\"https://colab.research.google.com/github/Ragnarok540/sympy-tutorial/blob/main/Convolution.ipynb\" target=\"_parent\"><img src=\"https://colab.research.google.com/assets/colab-badge.svg\" alt=\"Open In Colab\"/></a>"
      ]
    },
    {
      "cell_type": "code",
      "execution_count": 1,
      "metadata": {
        "id": "VO4wscQVszbg"
      },
      "outputs": [],
      "source": [
        "# https://www.youtube.com/watch?v=IW4Reburjpc\n",
        "\n",
        "import sympy as smp"
      ]
    },
    {
      "cell_type": "code",
      "source": [
        "t, tau = smp.symbols('t tau')\n",
        "func_1 = smp.sin(t - tau) * smp.cos(tau)\n",
        "func_1"
      ],
      "metadata": {
        "colab": {
          "base_uri": "https://localhost:8080/",
          "height": 38
        },
        "id": "Hb5mxRIqIUz3",
        "outputId": "733f0b7e-f31e-49a9-9e76-6d60d04baa66"
      },
      "execution_count": 2,
      "outputs": [
        {
          "output_type": "execute_result",
          "data": {
            "text/plain": [
              "sin(t - tau)*cos(tau)"
            ],
            "text/latex": "$\\displaystyle \\sin{\\left(t - \\tau \\right)} \\cos{\\left(\\tau \\right)}$"
          },
          "metadata": {},
          "execution_count": 2
        }
      ]
    },
    {
      "cell_type": "code",
      "source": [
        "conv = smp.integrate(func_1, (tau, 0, t))\n",
        "conv"
      ],
      "metadata": {
        "colab": {
          "base_uri": "https://localhost:8080/",
          "height": 53
        },
        "id": "hxfGWfP7JM5j",
        "outputId": "70e514cd-2456-4bce-d48c-bfd08d057f38"
      },
      "execution_count": 3,
      "outputs": [
        {
          "output_type": "execute_result",
          "data": {
            "text/plain": [
              "t*sin(t)/2"
            ],
            "text/latex": "$\\displaystyle \\frac{t \\sin{\\left(t \\right)}}{2}$"
          },
          "metadata": {},
          "execution_count": 3
        }
      ]
    },
    {
      "cell_type": "code",
      "source": [
        "func_2 = smp.sin(tau) * smp.cos(t - tau)\n",
        "func_2"
      ],
      "metadata": {
        "colab": {
          "base_uri": "https://localhost:8080/",
          "height": 38
        },
        "id": "VckXmA_KK_dr",
        "outputId": "ac318cfc-c12c-43ef-ca37-037bdb318599"
      },
      "execution_count": 4,
      "outputs": [
        {
          "output_type": "execute_result",
          "data": {
            "text/plain": [
              "sin(tau)*cos(t - tau)"
            ],
            "text/latex": "$\\displaystyle \\sin{\\left(\\tau \\right)} \\cos{\\left(t - \\tau \\right)}$"
          },
          "metadata": {},
          "execution_count": 4
        }
      ]
    },
    {
      "cell_type": "code",
      "source": [
        "conv = smp.integrate(func_2, (tau, 0, t))\n",
        "conv"
      ],
      "metadata": {
        "colab": {
          "base_uri": "https://localhost:8080/",
          "height": 53
        },
        "id": "aGgRsrH7LFnD",
        "outputId": "c7604383-2b35-4e83-c805-4d6f71fa36dd"
      },
      "execution_count": 5,
      "outputs": [
        {
          "output_type": "execute_result",
          "data": {
            "text/plain": [
              "t*sin(t)/2"
            ],
            "text/latex": "$\\displaystyle \\frac{t \\sin{\\left(t \\right)}}{2}$"
          },
          "metadata": {},
          "execution_count": 5
        }
      ]
    },
    {
      "cell_type": "code",
      "source": [
        "def convolve(func_a, func_b):\n",
        "  t, tau = smp.symbols('t tau')\n",
        "  func_c = func_a(tau) * func_b(t - tau)\n",
        "  return smp.integrate(func_c, (tau, 0, t))"
      ],
      "metadata": {
        "id": "YghyVkO83CQu"
      },
      "execution_count": 6,
      "outputs": []
    },
    {
      "cell_type": "code",
      "source": [
        "convolve(smp.sin, smp.cos)"
      ],
      "metadata": {
        "id": "q6-yg7xA3kLP",
        "outputId": "6b45205f-a312-4070-b27c-056112948031",
        "colab": {
          "base_uri": "https://localhost:8080/",
          "height": 53
        }
      },
      "execution_count": 7,
      "outputs": [
        {
          "output_type": "execute_result",
          "data": {
            "text/plain": [
              "t*sin(t)/2"
            ],
            "text/latex": "$\\displaystyle \\frac{t \\sin{\\left(t \\right)}}{2}$"
          },
          "metadata": {},
          "execution_count": 7
        }
      ]
    },
    {
      "cell_type": "code",
      "source": [
        "convolve(smp.cos, smp.sin)"
      ],
      "metadata": {
        "id": "8hG7tcKH35Kq",
        "outputId": "e4e71c84-c338-41e0-f786-fb7ace621055",
        "colab": {
          "base_uri": "https://localhost:8080/",
          "height": 53
        }
      },
      "execution_count": 9,
      "outputs": [
        {
          "output_type": "execute_result",
          "data": {
            "text/plain": [
              "t*sin(t)/2"
            ],
            "text/latex": "$\\displaystyle \\frac{t \\sin{\\left(t \\right)}}{2}$"
          },
          "metadata": {},
          "execution_count": 9
        }
      ]
    }
  ]
}