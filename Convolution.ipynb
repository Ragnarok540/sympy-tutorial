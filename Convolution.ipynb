{
  "nbformat": 4,
  "nbformat_minor": 0,
  "metadata": {
    "colab": {
      "provenance": [],
      "authorship_tag": "ABX9TyOTsHh2WpCLe6LWEr3J+w3a",
      "include_colab_link": true
    },
    "kernelspec": {
      "name": "python3",
      "display_name": "Python 3"
    },
    "language_info": {
      "name": "python"
    }
  },
  "cells": [
    {
      "cell_type": "markdown",
      "metadata": {
        "id": "view-in-github",
        "colab_type": "text"
      },
      "source": [
        "<a href=\"https://colab.research.google.com/github/Ragnarok540/sympy-tutorial/blob/main/Convolution.ipynb\" target=\"_parent\"><img src=\"https://colab.research.google.com/assets/colab-badge.svg\" alt=\"Open In Colab\"/></a>"
      ]
    },
    {
      "cell_type": "code",
      "execution_count": 14,
      "metadata": {
        "id": "VO4wscQVszbg"
      },
      "outputs": [],
      "source": [
        "# https://www.youtube.com/watch?v=IW4Reburjpc\n",
        "\n",
        "import sympy as smp"
      ]
    },
    {
      "cell_type": "code",
      "source": [
        "t, tau = smp.symbols('t tau')\n",
        "func_1 = smp.sin(t - tau) * smp.cos(tau)\n",
        "func_1"
      ],
      "metadata": {
        "colab": {
          "base_uri": "https://localhost:8080/",
          "height": 38
        },
        "id": "Hb5mxRIqIUz3",
        "outputId": "d40a8561-fe8b-44e9-8aa1-5fd85e902cc8"
      },
      "execution_count": 15,
      "outputs": [
        {
          "output_type": "execute_result",
          "data": {
            "text/plain": [
              "sin(t - tau)*cos(tau)"
            ],
            "text/latex": "$\\displaystyle \\sin{\\left(t - \\tau \\right)} \\cos{\\left(\\tau \\right)}$"
          },
          "metadata": {},
          "execution_count": 15
        }
      ]
    },
    {
      "cell_type": "code",
      "source": [
        "conv = smp.integrate(func_1, (tau, 0, t))\n",
        "conv"
      ],
      "metadata": {
        "colab": {
          "base_uri": "https://localhost:8080/",
          "height": 53
        },
        "id": "hxfGWfP7JM5j",
        "outputId": "2fb7bcc7-fcaa-4c4a-b7f2-3a3d12fb0539"
      },
      "execution_count": 16,
      "outputs": [
        {
          "output_type": "execute_result",
          "data": {
            "text/plain": [
              "t*sin(t)/2"
            ],
            "text/latex": "$\\displaystyle \\frac{t \\sin{\\left(t \\right)}}{2}$"
          },
          "metadata": {},
          "execution_count": 16
        }
      ]
    },
    {
      "cell_type": "code",
      "source": [
        "func_2 = smp.sin(tau) * smp.cos(t - tau)\n",
        "func_2"
      ],
      "metadata": {
        "colab": {
          "base_uri": "https://localhost:8080/",
          "height": 38
        },
        "id": "VckXmA_KK_dr",
        "outputId": "b37a62fa-2fb2-45dc-97ea-d332ad4dea9c"
      },
      "execution_count": 17,
      "outputs": [
        {
          "output_type": "execute_result",
          "data": {
            "text/plain": [
              "sin(tau)*cos(t - tau)"
            ],
            "text/latex": "$\\displaystyle \\sin{\\left(\\tau \\right)} \\cos{\\left(t - \\tau \\right)}$"
          },
          "metadata": {},
          "execution_count": 17
        }
      ]
    },
    {
      "cell_type": "code",
      "source": [
        "conv = smp.integrate(func_2, (tau, 0, t))\n",
        "conv"
      ],
      "metadata": {
        "colab": {
          "base_uri": "https://localhost:8080/",
          "height": 53
        },
        "id": "aGgRsrH7LFnD",
        "outputId": "f07f3f4c-bba9-4e27-88f9-1410c9cdfdfe"
      },
      "execution_count": 18,
      "outputs": [
        {
          "output_type": "execute_result",
          "data": {
            "text/plain": [
              "t*sin(t)/2"
            ],
            "text/latex": "$\\displaystyle \\frac{t \\sin{\\left(t \\right)}}{2}$"
          },
          "metadata": {},
          "execution_count": 18
        }
      ]
    }
  ]
}